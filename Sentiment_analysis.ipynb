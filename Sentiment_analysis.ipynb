{
  "nbformat": 4,
  "nbformat_minor": 0,
  "metadata": {
    "colab": {
      "name": "Sentiment_analysis.ipynb",
      "provenance": [],
      "collapsed_sections": [],
      "include_colab_link": true
    },
    "kernelspec": {
      "name": "python3",
      "display_name": "Python 3"
    }
  },
  "cells": [
    {
      "cell_type": "markdown",
      "metadata": {
        "id": "view-in-github",
        "colab_type": "text"
      },
      "source": [
        "<a href=\"https://colab.research.google.com/github/blondeincode/Trumps_tweet_sentiment/blob/main/Sentiment_analysis.ipynb\" target=\"_parent\"><img src=\"https://colab.research.google.com/assets/colab-badge.svg\" alt=\"Open In Colab\"/></a>"
      ]
    },
    {
      "cell_type": "markdown",
      "metadata": {
        "id": "JPYS1oQ0IlfK"
      },
      "source": [
        "Sentiment analysis and search for the most frequently used words in Donald Trump's tweets"
      ]
    },
    {
      "cell_type": "code",
      "metadata": {
        "id": "RX-cp_LfmY46",
        "colab": {
          "base_uri": "https://localhost:8080/"
        },
        "outputId": "413bba16-a447-4ad6-a95b-d50e4b43e539"
      },
      "source": [
        "!pip install -q langid\r\n",
        "!pip install -q emoji\r\n",
        "!pip install -q pyLDAvis"
      ],
      "execution_count": 1,
      "outputs": [
        {
          "output_type": "stream",
          "text": [
            "\u001b[K     |████████████████████████████████| 1.9MB 6.6MB/s \n",
            "\u001b[?25h  Building wheel for langid (setup.py) ... \u001b[?25l\u001b[?25hdone\n",
            "\u001b[K     |████████████████████████████████| 133kB 5.9MB/s \n",
            "\u001b[K     |████████████████████████████████| 1.7MB 6.6MB/s \n",
            "\u001b[?25h  Building wheel for pyLDAvis (setup.py) ... \u001b[?25l\u001b[?25hdone\n"
          ],
          "name": "stdout"
        }
      ]
    },
    {
      "cell_type": "code",
      "metadata": {
        "id": "IhZZTefgAxqm",
        "colab": {
          "base_uri": "https://localhost:8080/"
        },
        "outputId": "6ae5d106-6d67-4e4b-ca58-ca5ec11122f3"
      },
      "source": [
        "import os\n",
        "import urllib.request\n",
        "import zipfile\n",
        "import pandas as pd\n",
        "import numpy as np\n",
        "from datetime import datetime\n",
        "import seaborn as sns\n",
        "import matplotlib.pyplot as plt\n",
        "%matplotlib inline\n",
        "import matplotlib.ticker as mtick\n",
        "plt.style.use('fast')\n",
        "import string\n",
        "import re\n",
        "import emoji\n",
        "import langid\n",
        "from textblob import TextBlob\n",
        "import nltk\n",
        "from nltk.corpus import stopwords\n",
        "from nltk.tokenize import word_tokenize \n",
        "from nltk.stem import WordNetLemmatizer\n",
        "nltk.download('punkt') #for tokenization\n",
        "nltk.download('wordnet') #for lemmatization\n",
        "nltk.download('stopwords') #to remove stopwords\n",
        "from sklearn.feature_extraction.text import CountVectorizer\n",
        "from sklearn.decomposition import LatentDirichletAllocation\n",
        "import pyLDAvis\n",
        "import pyLDAvis.sklearn\n",
        "stop_words = set(stopwords.words('english'))"
      ],
      "execution_count": null,
      "outputs": [
        {
          "output_type": "stream",
          "text": [
            "[nltk_data] Downloading package punkt to /root/nltk_data...\n",
            "[nltk_data]   Unzipping tokenizers/punkt.zip.\n",
            "[nltk_data] Downloading package wordnet to /root/nltk_data...\n",
            "[nltk_data]   Unzipping corpora/wordnet.zip.\n",
            "[nltk_data] Downloading package stopwords to /root/nltk_data...\n",
            "[nltk_data]   Unzipping corpora/stopwords.zip.\n"
          ],
          "name": "stdout"
        }
      ]
    },
    {
      "cell_type": "code",
      "metadata": {
        "id": "sCl4MENpqJ-Y"
      },
      "source": [
        "#Create a path to a data file\n",
        "DATA_DIR = os.path.join('data')\n",
        "DATA_URL = 'https://www.dropbox.com/s/qp4g1kvqwpggios/tweety_trump.zip?dl=1'\n",
        "DATA_FILENAME = 'data.zip'\n",
        "DATA_FILEPATH = 'os.path.join(DATA_DIR, DATA_FILENAME)'"
      ],
      "execution_count": null,
      "outputs": []
    },
    {
      "cell_type": "code",
      "metadata": {
        "id": "5uV5tvHmqVXB"
      },
      "source": [
        "def init_directories():\n",
        "  if not os.path.exists(DATA_DIR):\n",
        "    os.makedirs(DATA_DIR)"
      ],
      "execution_count": null,
      "outputs": []
    },
    {
      "cell_type": "code",
      "metadata": {
        "id": "t-FIsZa1qX_W"
      },
      "source": [
        "data = urllib.request.urlretrieve(DATA_URL, DATA_FILEPATH)"
      ],
      "execution_count": null,
      "outputs": []
    },
    {
      "cell_type": "code",
      "metadata": {
        "id": "DMgIP0PbqbAi"
      },
      "source": [
        "init_directories()\n",
        "\n",
        "with zipfile.ZipFile(DATA_FILEPATH, 'r') as zip_ref:\n",
        "    zip_ref.extractall(DATA_DIR) "
      ],
      "execution_count": null,
      "outputs": []
    },
    {
      "cell_type": "code",
      "metadata": {
        "id": "WzeUxr2Jqg6z",
        "colab": {
          "base_uri": "https://localhost:8080/"
        },
        "outputId": "db9446cb-08ca-403b-de55-dea289c95f0f"
      },
      "source": [
        "for path, subdirs, files in os.walk('data'):\n",
        "    for name in files:\n",
        "        print(os.path.join(path, name))"
      ],
      "execution_count": null,
      "outputs": [
        {
          "output_type": "stream",
          "text": [
            "data/tweety_trump.csv\n"
          ],
          "name": "stdout"
        }
      ]
    },
    {
      "cell_type": "code",
      "metadata": {
        "id": "N0b89JjxionL",
        "colab": {
          "base_uri": "https://localhost:8080/",
          "height": 419
        },
        "outputId": "b397c44b-d082-426d-e3f0-9cf1f221217f"
      },
      "source": [
        "#Open csv file with data\n",
        "tweets = pd.read_csv('data/tweety_trump.csv', usecols=['text','date'], header=0, sep=',', parse_dates=['date'])\n",
        "tweets"
      ],
      "execution_count": null,
      "outputs": [
        {
          "output_type": "execute_result",
          "data": {
            "text/html": [
              "<div>\n",
              "<style scoped>\n",
              "    .dataframe tbody tr th:only-of-type {\n",
              "        vertical-align: middle;\n",
              "    }\n",
              "\n",
              "    .dataframe tbody tr th {\n",
              "        vertical-align: top;\n",
              "    }\n",
              "\n",
              "    .dataframe thead th {\n",
              "        text-align: right;\n",
              "    }\n",
              "</style>\n",
              "<table border=\"1\" class=\"dataframe\">\n",
              "  <thead>\n",
              "    <tr style=\"text-align: right;\">\n",
              "      <th></th>\n",
              "      <th>text</th>\n",
              "      <th>date</th>\n",
              "    </tr>\n",
              "  </thead>\n",
              "  <tbody>\n",
              "    <tr>\n",
              "      <th>0</th>\n",
              "      <td>Republicans and Democrats have both created ou...</td>\n",
              "      <td>2011-08-02 18:07:48</td>\n",
              "    </tr>\n",
              "    <tr>\n",
              "      <th>1</th>\n",
              "      <td>I was thrilled to be back in the Great city of...</td>\n",
              "      <td>2020-03-03 01:34:50</td>\n",
              "    </tr>\n",
              "    <tr>\n",
              "      <th>2</th>\n",
              "      <td>RT @CBS_Herridge: READ: Letter to surveillance...</td>\n",
              "      <td>2020-01-17 03:22:47</td>\n",
              "    </tr>\n",
              "    <tr>\n",
              "      <th>3</th>\n",
              "      <td>The Unsolicited Mail In Ballot Scam is a major...</td>\n",
              "      <td>2020-09-12 20:10:58</td>\n",
              "    </tr>\n",
              "    <tr>\n",
              "      <th>4</th>\n",
              "      <td>RT @MZHemingway: Very friendly telling of even...</td>\n",
              "      <td>2020-01-17 13:13:59</td>\n",
              "    </tr>\n",
              "    <tr>\n",
              "      <th>...</th>\n",
              "      <td>...</td>\n",
              "      <td>...</td>\n",
              "    </tr>\n",
              "    <tr>\n",
              "      <th>56566</th>\n",
              "      <td>RT @RandPaul: I don’t know why @JoeBiden think...</td>\n",
              "      <td>2020-10-23 03:46:25</td>\n",
              "    </tr>\n",
              "    <tr>\n",
              "      <th>56567</th>\n",
              "      <td>RT @EliseStefanik: President @realDonaldTrump ...</td>\n",
              "      <td>2020-10-23 03:42:05</td>\n",
              "    </tr>\n",
              "    <tr>\n",
              "      <th>56568</th>\n",
              "      <td>RT @TeamTrump: LIVE: Presidential Debate #Deba...</td>\n",
              "      <td>2020-10-23 01:03:58</td>\n",
              "    </tr>\n",
              "    <tr>\n",
              "      <th>56569</th>\n",
              "      <td>Just signed an order to support the workers of...</td>\n",
              "      <td>2020-10-22 21:04:21</td>\n",
              "    </tr>\n",
              "    <tr>\n",
              "      <th>56570</th>\n",
              "      <td>Suburban women want Safety &amp;amp; Security. Joe...</td>\n",
              "      <td>2020-10-22 18:31:46</td>\n",
              "    </tr>\n",
              "  </tbody>\n",
              "</table>\n",
              "<p>56571 rows × 2 columns</p>\n",
              "</div>"
            ],
            "text/plain": [
              "                                                    text                date\n",
              "0      Republicans and Democrats have both created ou... 2011-08-02 18:07:48\n",
              "1      I was thrilled to be back in the Great city of... 2020-03-03 01:34:50\n",
              "2      RT @CBS_Herridge: READ: Letter to surveillance... 2020-01-17 03:22:47\n",
              "3      The Unsolicited Mail In Ballot Scam is a major... 2020-09-12 20:10:58\n",
              "4      RT @MZHemingway: Very friendly telling of even... 2020-01-17 13:13:59\n",
              "...                                                  ...                 ...\n",
              "56566  RT @RandPaul: I don’t know why @JoeBiden think... 2020-10-23 03:46:25\n",
              "56567  RT @EliseStefanik: President @realDonaldTrump ... 2020-10-23 03:42:05\n",
              "56568  RT @TeamTrump: LIVE: Presidential Debate #Deba... 2020-10-23 01:03:58\n",
              "56569  Just signed an order to support the workers of... 2020-10-22 21:04:21\n",
              "56570  Suburban women want Safety &amp; Security. Joe... 2020-10-22 18:31:46\n",
              "\n",
              "[56571 rows x 2 columns]"
            ]
          },
          "metadata": {
            "tags": []
          },
          "execution_count": 8
        }
      ]
    },
    {
      "cell_type": "code",
      "metadata": {
        "id": "SVD5rkYQjnCX",
        "colab": {
          "base_uri": "https://localhost:8080/",
          "height": 204
        },
        "outputId": "26c68096-d9f0-417c-bee2-60c792fd8595"
      },
      "source": [
        "#Filtering records by date - we choose the time period we are interested in\n",
        "tweets = tweets[(tweets['date'] >= '2017-01-20') & (tweets['date'] <= '2020-12-31' )]\n",
        "tweets = tweets.reset_index(drop=True)\n",
        "tweets.head()"
      ],
      "execution_count": null,
      "outputs": [
        {
          "output_type": "execute_result",
          "data": {
            "text/html": [
              "<div>\n",
              "<style scoped>\n",
              "    .dataframe tbody tr th:only-of-type {\n",
              "        vertical-align: middle;\n",
              "    }\n",
              "\n",
              "    .dataframe tbody tr th {\n",
              "        vertical-align: top;\n",
              "    }\n",
              "\n",
              "    .dataframe thead th {\n",
              "        text-align: right;\n",
              "    }\n",
              "</style>\n",
              "<table border=\"1\" class=\"dataframe\">\n",
              "  <thead>\n",
              "    <tr style=\"text-align: right;\">\n",
              "      <th></th>\n",
              "      <th>text</th>\n",
              "      <th>date</th>\n",
              "    </tr>\n",
              "  </thead>\n",
              "  <tbody>\n",
              "    <tr>\n",
              "      <th>0</th>\n",
              "      <td>I was thrilled to be back in the Great city of...</td>\n",
              "      <td>2020-03-03 01:34:50</td>\n",
              "    </tr>\n",
              "    <tr>\n",
              "      <th>1</th>\n",
              "      <td>RT @CBS_Herridge: READ: Letter to surveillance...</td>\n",
              "      <td>2020-01-17 03:22:47</td>\n",
              "    </tr>\n",
              "    <tr>\n",
              "      <th>2</th>\n",
              "      <td>The Unsolicited Mail In Ballot Scam is a major...</td>\n",
              "      <td>2020-09-12 20:10:58</td>\n",
              "    </tr>\n",
              "    <tr>\n",
              "      <th>3</th>\n",
              "      <td>RT @MZHemingway: Very friendly telling of even...</td>\n",
              "      <td>2020-01-17 13:13:59</td>\n",
              "    </tr>\n",
              "    <tr>\n",
              "      <th>4</th>\n",
              "      <td>RT @WhiteHouse: President @realDonaldTrump ann...</td>\n",
              "      <td>2020-01-17 00:11:56</td>\n",
              "    </tr>\n",
              "  </tbody>\n",
              "</table>\n",
              "</div>"
            ],
            "text/plain": [
              "                                                text                date\n",
              "0  I was thrilled to be back in the Great city of... 2020-03-03 01:34:50\n",
              "1  RT @CBS_Herridge: READ: Letter to surveillance... 2020-01-17 03:22:47\n",
              "2  The Unsolicited Mail In Ballot Scam is a major... 2020-09-12 20:10:58\n",
              "3  RT @MZHemingway: Very friendly telling of even... 2020-01-17 13:13:59\n",
              "4  RT @WhiteHouse: President @realDonaldTrump ann... 2020-01-17 00:11:56"
            ]
          },
          "metadata": {
            "tags": []
          },
          "execution_count": 9
        }
      ]
    },
    {
      "cell_type": "code",
      "metadata": {
        "id": "vOoykTkUkR7u",
        "colab": {
          "base_uri": "https://localhost:8080/"
        },
        "outputId": "3b9c0458-e128-47f7-be8e-4030d1f382f9"
      },
      "source": [
        "tweets.info()"
      ],
      "execution_count": null,
      "outputs": [
        {
          "output_type": "stream",
          "text": [
            "<class 'pandas.core.frame.DataFrame'>\n",
            "RangeIndex: 26081 entries, 0 to 26080\n",
            "Data columns (total 2 columns):\n",
            " #   Column  Non-Null Count  Dtype         \n",
            "---  ------  --------------  -----         \n",
            " 0   text    26081 non-null  object        \n",
            " 1   date    26081 non-null  datetime64[ns]\n",
            "dtypes: datetime64[ns](1), object(1)\n",
            "memory usage: 407.6+ KB\n"
          ],
          "name": "stdout"
        }
      ]
    },
    {
      "cell_type": "code",
      "metadata": {
        "id": "mUoOsoluGcKl"
      },
      "source": [
        "def findRetweeted(tweet):\r\n",
        "    '''The function will extract people's twitter logins from the retweet'''\r\n",
        "    return re.findall(r'(?<=RT\\s)(@[A-Za-z]+[A-Za-z0-9-_]+)', tweet)\r\n",
        "\r\n",
        "def findMentioned(tweet):\r\n",
        "    '''The function will extract twitter logins of people mentioned in the tweet'''\r\n",
        "    return re.findall(r'(?<!RT\\s)(@[A-Za-z]+[A-Za-z0-9-_]+)', tweet)  \r\n",
        "\r\n",
        "def findHashtags(tweet):\r\n",
        "    '''The function will extract the hashtags used in the tweet'''\r\n",
        "    return re.findall(r'(#[A-Za-z]+[A-Za-z0-9-_]+)', tweet)   "
      ],
      "execution_count": null,
      "outputs": []
    },
    {
      "cell_type": "code",
      "metadata": {
        "id": "RnbgsTzyG5_z"
      },
      "source": [
        "tweets['retweeted'] = tweets['text'].apply(findRetweeted)\r\n",
        "tweets['mentioned'] = tweets['text'].apply(findMentioned)\r\n",
        "tweets['hashtags'] = tweets['text'].apply(findHashtags)"
      ],
      "execution_count": null,
      "outputs": []
    },
    {
      "cell_type": "code",
      "metadata": {
        "id": "BOVr2MBcKXEj"
      },
      "source": [
        "#take the rows from the hashtag column where the hashtags are located\r\n",
        "hashtags_list_df = tweets.loc[tweets.hashtags.apply(lambda hashtags_list: hashtags_list !=[]),['hashtags']]\r\n",
        "\r\n",
        "#create a dataframe where each hashtag usage gets its own line\r\n",
        "flattened_hashtags_df = pd.DataFrame(\r\n",
        "    [hashtag for hashtags_list in hashtags_list_df.hashtags\r\n",
        "    for hashtag in hashtags_list],\r\n",
        "    columns=['hashtag'])\r\n",
        "\r\n",
        "#the number of occurrences of each hashtag\r\n",
        "popular_hashtags = flattened_hashtags_df.groupby('hashtag').size()\\\r\n",
        "                                        .reset_index(name='counts')\\\r\n",
        "                                        .sort_values('counts', ascending=False)\\\r\n",
        "                                        .reset_index(drop=True)"
      ],
      "execution_count": null,
      "outputs": []
    },
    {
      "cell_type": "code",
      "metadata": {
        "colab": {
          "base_uri": "https://localhost:8080/",
          "height": 390
        },
        "id": "s26x9syQPPk3",
        "outputId": "78a6dc88-09b9-4c4b-f0db-0d760df2ec66"
      },
      "source": [
        "popular_hashtags = popular_hashtags.head(10)\r\n",
        "popular_hashtags.set_index(['hashtag'], inplace = True)\r\n",
        "popular_hashtags"
      ],
      "execution_count": null,
      "outputs": [
        {
          "output_type": "execute_result",
          "data": {
            "text/html": [
              "<div>\n",
              "<style scoped>\n",
              "    .dataframe tbody tr th:only-of-type {\n",
              "        vertical-align: middle;\n",
              "    }\n",
              "\n",
              "    .dataframe tbody tr th {\n",
              "        vertical-align: top;\n",
              "    }\n",
              "\n",
              "    .dataframe thead th {\n",
              "        text-align: right;\n",
              "    }\n",
              "</style>\n",
              "<table border=\"1\" class=\"dataframe\">\n",
              "  <thead>\n",
              "    <tr style=\"text-align: right;\">\n",
              "      <th></th>\n",
              "      <th>counts</th>\n",
              "    </tr>\n",
              "    <tr>\n",
              "      <th>hashtag</th>\n",
              "      <th></th>\n",
              "    </tr>\n",
              "  </thead>\n",
              "  <tbody>\n",
              "    <tr>\n",
              "      <th>#MAGA</th>\n",
              "      <td>436</td>\n",
              "    </tr>\n",
              "    <tr>\n",
              "      <th>#KAG2020</th>\n",
              "      <td>74</td>\n",
              "    </tr>\n",
              "    <tr>\n",
              "      <th>#COVID19</th>\n",
              "      <td>66</td>\n",
              "    </tr>\n",
              "    <tr>\n",
              "      <th>#USMCA</th>\n",
              "      <td>42</td>\n",
              "    </tr>\n",
              "    <tr>\n",
              "      <th>#USA</th>\n",
              "      <td>33</td>\n",
              "    </tr>\n",
              "    <tr>\n",
              "      <th>#Dorian</th>\n",
              "      <td>33</td>\n",
              "    </tr>\n",
              "    <tr>\n",
              "      <th>#coronavirus</th>\n",
              "      <td>28</td>\n",
              "    </tr>\n",
              "    <tr>\n",
              "      <th>#AmericaFirst</th>\n",
              "      <td>27</td>\n",
              "    </tr>\n",
              "    <tr>\n",
              "      <th>#PaycheckProtectionProgram</th>\n",
              "      <td>24</td>\n",
              "    </tr>\n",
              "    <tr>\n",
              "      <th>#MakeAmericaGreatAgain</th>\n",
              "      <td>23</td>\n",
              "    </tr>\n",
              "  </tbody>\n",
              "</table>\n",
              "</div>"
            ],
            "text/plain": [
              "                            counts\n",
              "hashtag                           \n",
              "#MAGA                          436\n",
              "#KAG2020                        74\n",
              "#COVID19                        66\n",
              "#USMCA                          42\n",
              "#USA                            33\n",
              "#Dorian                         33\n",
              "#coronavirus                    28\n",
              "#AmericaFirst                   27\n",
              "#PaycheckProtectionProgram      24\n",
              "#MakeAmericaGreatAgain          23"
            ]
          },
          "metadata": {
            "tags": []
          },
          "execution_count": 14
        }
      ]
    },
    {
      "cell_type": "code",
      "metadata": {
        "colab": {
          "base_uri": "https://localhost:8080/",
          "height": 546
        },
        "id": "5SIhC09A9DoE",
        "outputId": "46246ff6-e6d2-4391-875f-2ba4c92327c0"
      },
      "source": [
        "#Popular hashtags\r\n",
        "fig, ax = plt.subplots(1,1, figsize=(16, 7))\r\n",
        "plt.title('Popular hashtags')\r\n",
        "ax.bar(popular_hashtags.index, popular_hashtags['counts'], width=0.6,\r\n",
        "       edgecolor='darkgray', color=sns.color_palette(\"crest\", 10),\r\n",
        "       linewidth=0.7)\r\n",
        "for i in popular_hashtags.index:\r\n",
        "  ax.annotate(f\"{popular_hashtags['counts'][i]}\", xy=(i, popular_hashtags['counts'][i] + 10), va = 'center', ha='center', fontsize=11, fontweight='light', color='black')\r\n",
        "for s in ['top', 'left', 'right']:\r\n",
        "    ax.spines[s].set_visible(False)\r\n",
        "ax.set_xticklabels(popular_hashtags.index, rotation=45)\r\n",
        "ax.grid(axis='y', linestyle='-', alpha=0.4)    \r\n",
        "plt.show()"
      ],
      "execution_count": null,
      "outputs": [
        {
          "output_type": "display_data",
          "data": {
            "image/png": "[encoded data removed]",
            "text/plain": [
              "<Figure size 1152x504 with 1 Axes>"
            ]
          },
          "metadata": {
            "tags": [],
            "needs_background": "light"
          }
        }
      ]
    },
    {
      "cell_type": "code",
      "metadata": {
        "id": "W4RxrENbQlmo"
      },
      "source": [
        "#get the rows from the retweeted column that contain the retweets\r\n",
        "retweeted_list_df = tweets.loc[tweets.retweeted.apply(lambda retweeted_list: retweeted_list !=[]),['retweeted']]\r\n",
        "\r\n",
        "#create a dataframe where each use of the retweet gets its own line\r\n",
        "flattened_retweeted_df = pd.DataFrame(\r\n",
        "    [retweeted for retweeted_list in retweeted_list_df.retweeted\r\n",
        "    for retweeted in retweeted_list],\r\n",
        "    columns=['retweeted'])\r\n",
        "\r\n",
        "#the number of times each retweet has occurred\r\n",
        "popular_retweeted = flattened_retweeted_df.groupby('retweeted').size()\\\r\n",
        "                                        .reset_index(name='counts')\\\r\n",
        "                                        .sort_values('counts', ascending=False)\\\r\n",
        "                                        .reset_index(drop=True)"
      ],
      "execution_count": null,
      "outputs": []
    },
    {
      "cell_type": "code",
      "metadata": {
        "colab": {
          "base_uri": "https://localhost:8080/",
          "height": 390
        },
        "id": "XSWHqKBVQ9fB",
        "outputId": "7bfc94e2-3b2a-4f42-84cc-ab9702c2a239"
      },
      "source": [
        "popular_retweeted = popular_retweeted.head(10)\r\n",
        "popular_retweeted.set_index(['retweeted'], inplace = True)\r\n",
        "popular_retweeted"
      ],
      "execution_count": null,
      "outputs": [
        {
          "output_type": "execute_result",
          "data": {
            "text/html": [
              "<div>\n",
              "<style scoped>\n",
              "    .dataframe tbody tr th:only-of-type {\n",
              "        vertical-align: middle;\n",
              "    }\n",
              "\n",
              "    .dataframe tbody tr th {\n",
              "        vertical-align: top;\n",
              "    }\n",
              "\n",
              "    .dataframe thead th {\n",
              "        text-align: right;\n",
              "    }\n",
              "</style>\n",
              "<table border=\"1\" class=\"dataframe\">\n",
              "  <thead>\n",
              "    <tr style=\"text-align: right;\">\n",
              "      <th></th>\n",
              "      <th>counts</th>\n",
              "    </tr>\n",
              "    <tr>\n",
              "      <th>retweeted</th>\n",
              "      <th></th>\n",
              "    </tr>\n",
              "  </thead>\n",
              "  <tbody>\n",
              "    <tr>\n",
              "      <th>@realDonaldTrump</th>\n",
              "      <td>985</td>\n",
              "    </tr>\n",
              "    <tr>\n",
              "      <th>@WhiteHouse</th>\n",
              "      <td>665</td>\n",
              "    </tr>\n",
              "    <tr>\n",
              "      <th>@TeamTrump</th>\n",
              "      <td>269</td>\n",
              "    </tr>\n",
              "    <tr>\n",
              "      <th>@GOPChairwoman</th>\n",
              "      <td>213</td>\n",
              "    </tr>\n",
              "    <tr>\n",
              "      <th>@Jim_Jordan</th>\n",
              "      <td>143</td>\n",
              "    </tr>\n",
              "    <tr>\n",
              "      <th>@DanScavino</th>\n",
              "      <td>141</td>\n",
              "    </tr>\n",
              "    <tr>\n",
              "      <th>@GOP</th>\n",
              "      <td>133</td>\n",
              "    </tr>\n",
              "    <tr>\n",
              "      <th>@Scavino45</th>\n",
              "      <td>114</td>\n",
              "    </tr>\n",
              "    <tr>\n",
              "      <th>@GreggJarrett</th>\n",
              "      <td>111</td>\n",
              "    </tr>\n",
              "    <tr>\n",
              "      <th>@DonaldJTrumpJr</th>\n",
              "      <td>100</td>\n",
              "    </tr>\n",
              "  </tbody>\n",
              "</table>\n",
              "</div>"
            ],
            "text/plain": [
              "                  counts\n",
              "retweeted               \n",
              "@realDonaldTrump     985\n",
              "@WhiteHouse          665\n",
              "@TeamTrump           269\n",
              "@GOPChairwoman       213\n",
              "@Jim_Jordan          143\n",
              "@DanScavino          141\n",
              "@GOP                 133\n",
              "@Scavino45           114\n",
              "@GreggJarrett        111\n",
              "@DonaldJTrumpJr      100"
            ]
          },
          "metadata": {
            "tags": []
          },
          "execution_count": 17
        }
      ]
    },
    {
      "cell_type": "code",
      "metadata": {
        "colab": {
          "base_uri": "https://localhost:8080/",
          "height": 509
        },
        "id": "NAcqRDYq9f8y",
        "outputId": "43a6d17e-6a67-41f4-b4b0-b8a6689dc4fe"
      },
      "source": [
        "#Popular retweets\r\n",
        "fig, ax = plt.subplots(1,1, figsize=(16, 7))\r\n",
        "plt.title('Popular retweets')\r\n",
        "ax.bar(popular_retweeted.index, popular_retweeted['counts'], width=0.6, \r\n",
        "       edgecolor='darkgray', color=sns.color_palette(\"crest\", 10),\r\n",
        "       linewidth=0.7)\r\n",
        "for i in popular_retweeted.index:\r\n",
        "  ax.annotate(f\"{popular_retweeted['counts'][i]}\", xy=(i, popular_retweeted['counts'][i] + 20), va = 'center', ha='center', fontsize=11, fontweight='light', color='black')\r\n",
        "for s in ['top', 'left', 'right']:\r\n",
        "    ax.spines[s].set_visible(False)\r\n",
        "ax.set_xticklabels(popular_retweeted.index, rotation=45)\r\n",
        "ax.grid(axis='y', linestyle='-', alpha=0.4)    \r\n",
        "plt.show()"
      ],
      "execution_count": null,
      "outputs": [
        {
          "output_type": "display_data",
          "data": {
            "image/png": "[encoded data removed]",
            "text/plain": [
              "<Figure size 1152x504 with 1 Axes>"
            ]
          },
          "metadata": {
            "tags": [],
            "needs_background": "light"
          }
        }
      ]
    },
    {
      "cell_type": "code",
      "metadata": {
        "id": "E5NQrZXXRXzI"
      },
      "source": [
        "#get the rows from the 'mentioned' column containing the '@' calls\r\n",
        "mentioned_list_df = tweets.loc[tweets.mentioned.apply(lambda mentioned_list: mentioned_list !=[]),['mentioned']]\r\n",
        "\r\n",
        "#create a dataframe where each use of the '@' call gets its own line\r\n",
        "flattened_mentioned_df = pd.DataFrame(\r\n",
        "    [mentioned for mentioned_list in mentioned_list_df.mentioned\r\n",
        "    for mentioned in mentioned_list],\r\n",
        "    columns=['mentioned'])\r\n",
        "\r\n",
        "#number of occurrences of each '@' call\r\n",
        "popular_mentioned = flattened_mentioned_df.groupby('mentioned').size()\\\r\n",
        "                                        .reset_index(name='counts')\\\r\n",
        "                                        .sort_values('counts', ascending=False)\\\r\n",
        "                                        .reset_index(drop=True)"
      ],
      "execution_count": null,
      "outputs": []
    },
    {
      "cell_type": "code",
      "metadata": {
        "colab": {
          "base_uri": "https://localhost:8080/",
          "height": 390
        },
        "id": "uYTuMXfKR3YZ",
        "outputId": "03f44921-8771-4097-b3c6-e47afae0206d"
      },
      "source": [
        "popular_mentioned = popular_mentioned.head(10)\r\n",
        "popular_mentioned.set_index(['mentioned'], inplace = True)\r\n",
        "popular_mentioned"
      ],
      "execution_count": null,
      "outputs": [
        {
          "output_type": "execute_result",
          "data": {
            "text/html": [
              "<div>\n",
              "<style scoped>\n",
              "    .dataframe tbody tr th:only-of-type {\n",
              "        vertical-align: middle;\n",
              "    }\n",
              "\n",
              "    .dataframe tbody tr th {\n",
              "        vertical-align: top;\n",
              "    }\n",
              "\n",
              "    .dataframe thead th {\n",
              "        text-align: right;\n",
              "    }\n",
              "</style>\n",
              "<table border=\"1\" class=\"dataframe\">\n",
              "  <thead>\n",
              "    <tr style=\"text-align: right;\">\n",
              "      <th></th>\n",
              "      <th>counts</th>\n",
              "    </tr>\n",
              "    <tr>\n",
              "      <th>mentioned</th>\n",
              "      <th></th>\n",
              "    </tr>\n",
              "  </thead>\n",
              "  <tbody>\n",
              "    <tr>\n",
              "      <th>@realDonaldTrump</th>\n",
              "      <td>1567</td>\n",
              "    </tr>\n",
              "    <tr>\n",
              "      <th>@FoxNews</th>\n",
              "      <td>495</td>\n",
              "    </tr>\n",
              "    <tr>\n",
              "      <th>@foxandfriends</th>\n",
              "      <td>303</td>\n",
              "    </tr>\n",
              "    <tr>\n",
              "      <th>@POTUS</th>\n",
              "      <td>189</td>\n",
              "    </tr>\n",
              "    <tr>\n",
              "      <th>@WhiteHouse</th>\n",
              "      <td>174</td>\n",
              "    </tr>\n",
              "    <tr>\n",
              "      <th>@CNN</th>\n",
              "      <td>133</td>\n",
              "    </tr>\n",
              "    <tr>\n",
              "      <th>@nytimes</th>\n",
              "      <td>114</td>\n",
              "    </tr>\n",
              "    <tr>\n",
              "      <th>@FLOTUS</th>\n",
              "      <td>105</td>\n",
              "    </tr>\n",
              "    <tr>\n",
              "      <th>@BreitbartNews</th>\n",
              "      <td>104</td>\n",
              "    </tr>\n",
              "    <tr>\n",
              "      <th>@OANN</th>\n",
              "      <td>93</td>\n",
              "    </tr>\n",
              "  </tbody>\n",
              "</table>\n",
              "</div>"
            ],
            "text/plain": [
              "                  counts\n",
              "mentioned               \n",
              "@realDonaldTrump    1567\n",
              "@FoxNews             495\n",
              "@foxandfriends       303\n",
              "@POTUS               189\n",
              "@WhiteHouse          174\n",
              "@CNN                 133\n",
              "@nytimes             114\n",
              "@FLOTUS              105\n",
              "@BreitbartNews       104\n",
              "@OANN                 93"
            ]
          },
          "metadata": {
            "tags": []
          },
          "execution_count": 20
        }
      ]
    },
    {
      "cell_type": "code",
      "metadata": {
        "colab": {
          "base_uri": "https://localhost:8080/",
          "height": 509
        },
        "id": "sDxdEN3C98GU",
        "outputId": "d9f3e8be-6097-40e0-f0c7-ea10c1d9a7cb"
      },
      "source": [
        "#Popular mentioned\r\n",
        "fig, ax = plt.subplots(1,1, figsize=(16, 7))\r\n",
        "plt.title('Popular mentions')\r\n",
        "ax.bar(popular_mentioned.index, popular_mentioned['counts'], width=0.6, \r\n",
        "       edgecolor='darkgray', color=sns.color_palette(\"crest\", 10),\r\n",
        "       linewidth=0.7)\r\n",
        "for i in popular_mentioned.index:\r\n",
        "  ax.annotate(f\"{popular_mentioned['counts'][i]}\", xy=(i, popular_mentioned['counts'][i] + 30), va = 'center', ha='center', fontsize=11, fontweight='light', color='black')\r\n",
        "for s in ['top', 'left', 'right']:\r\n",
        "    ax.spines[s].set_visible(False)\r\n",
        "ax.set_xticklabels(popular_mentioned.index, rotation=45)\r\n",
        "ax.grid(axis='y', linestyle='-', alpha=0.4)    \r\n",
        "plt.show()"
      ],
      "execution_count": null,
      "outputs": [
        {
          "output_type": "display_data",
          "data": {
            "image/png": "[encoded data removed]",
            "text/plain": [
              "<Figure size 1152x504 with 1 Axes>"
            ]
          },
          "metadata": {
            "tags": [],
            "needs_background": "light"
          }
        }
      ]
    },
    {
      "cell_type": "code",
      "metadata": {
        "id": "KEXZCDmuEw09"
      },
      "source": [
        "def cleanTxt(text):\n",
        "  text = re.sub(r'@[A-Za-z0-9]+', '', text) #removing the '@' call\n",
        "  text = re.sub(r'#', '', text) #remove '#' sign\n",
        "  text = re.sub(r'RT[\\s]+', '', text) #removed 'RT' retweet tag\n",
        "  text = re.sub(r'https?:\\/\\/\\S+', '', text) #removal of links\n",
        "  text = re.sub(r'[.,!?:;-=\\'\\\"$%&()*+/<>\\[\\\\\\]^_{|}~]', '', text) #remove punctuation marks\n",
        "  text = re.sub(r'[0-9]+', '', text) #delete digits\n",
        "  text = re.sub(r'\\s+', ' ', text) #removing multiple spaces\n",
        "\n",
        "  return text"
      ],
      "execution_count": null,
      "outputs": []
    },
    {
      "cell_type": "code",
      "metadata": {
        "id": "jEtVhqFjGm9N"
      },
      "source": [
        "#Clear text\n",
        "tweets['text'] = tweets['text'].apply(cleanTxt)"
      ],
      "execution_count": null,
      "outputs": []
    },
    {
      "cell_type": "code",
      "metadata": {
        "id": "I2avCwq2A5eq"
      },
      "source": [
        "#Clean up text from emoji\r\n",
        "def emojiFreeText(text):\r\n",
        "    allchars = [str for str in text]\r\n",
        "    emoji_list = [c for c in allchars if c in emoji.UNICODE_EMOJI]\r\n",
        "    clean_text = ' '.join([str for str in text.split() if not any(i in str for i in emoji_list)])\r\n",
        "    return clean_text"
      ],
      "execution_count": null,
      "outputs": []
    },
    {
      "cell_type": "code",
      "metadata": {
        "id": "yXFTfwydBtmT"
      },
      "source": [
        "tweets['text'] = tweets['text'].apply(emojiFreeText)"
      ],
      "execution_count": null,
      "outputs": []
    },
    {
      "cell_type": "code",
      "metadata": {
        "id": "2fssLkNZDzy5",
        "colab": {
          "base_uri": "https://localhost:8080/",
          "height": 419
        },
        "outputId": "7f68d0a8-1cd8-463b-cf89-2e73404e12bd"
      },
      "source": [
        "#We exclude blank tweets after cleaning\r\n",
        "tweets = tweets[(tweets['text'] != '')]\r\n",
        "tweets = tweets.reset_index(drop=True)\r\n",
        "tweets"
      ],
      "execution_count": null,
      "outputs": [
        {
          "output_type": "execute_result",
          "data": {
            "text/html": [
              "<div>\n",
              "<style scoped>\n",
              "    .dataframe tbody tr th:only-of-type {\n",
              "        vertical-align: middle;\n",
              "    }\n",
              "\n",
              "    .dataframe tbody tr th {\n",
              "        vertical-align: top;\n",
              "    }\n",
              "\n",
              "    .dataframe thead th {\n",
              "        text-align: right;\n",
              "    }\n",
              "</style>\n",
              "<table border=\"1\" class=\"dataframe\">\n",
              "  <thead>\n",
              "    <tr style=\"text-align: right;\">\n",
              "      <th></th>\n",
              "      <th>text</th>\n",
              "      <th>date</th>\n",
              "      <th>retweeted</th>\n",
              "      <th>mentioned</th>\n",
              "      <th>hashtags</th>\n",
              "    </tr>\n",
              "  </thead>\n",
              "  <tbody>\n",
              "    <tr>\n",
              "      <th>0</th>\n",
              "      <td>I was thrilled to be back in the Great city of...</td>\n",
              "      <td>2020-03-03 01:34:50</td>\n",
              "      <td>[]</td>\n",
              "      <td>[]</td>\n",
              "      <td>[#KAG2020]</td>\n",
              "    </tr>\n",
              "    <tr>\n",
              "      <th>1</th>\n",
              "      <td>Herridge READ Letter to surveillance court obt...</td>\n",
              "      <td>2020-01-17 03:22:47</td>\n",
              "      <td>[@CBS_Herridge]</td>\n",
              "      <td>[]</td>\n",
              "      <td>[]</td>\n",
              "    </tr>\n",
              "    <tr>\n",
              "      <th>2</th>\n",
              "      <td>The Unsolicited Mail In Ballot Scam is a major...</td>\n",
              "      <td>2020-09-12 20:10:58</td>\n",
              "      <td>[]</td>\n",
              "      <td>[]</td>\n",
              "      <td>[]</td>\n",
              "    </tr>\n",
              "    <tr>\n",
              "      <th>3</th>\n",
              "      <td>Very friendly telling of events here about Com...</td>\n",
              "      <td>2020-01-17 13:13:59</td>\n",
              "      <td>[@MZHemingway]</td>\n",
              "      <td>[]</td>\n",
              "      <td>[]</td>\n",
              "    </tr>\n",
              "    <tr>\n",
              "      <th>4</th>\n",
              "      <td>President announced historic steps to protect ...</td>\n",
              "      <td>2020-01-17 00:11:56</td>\n",
              "      <td>[@WhiteHouse]</td>\n",
              "      <td>[@realDonaldTrump]</td>\n",
              "      <td>[]</td>\n",
              "    </tr>\n",
              "    <tr>\n",
              "      <th>...</th>\n",
              "      <td>...</td>\n",
              "      <td>...</td>\n",
              "      <td>...</td>\n",
              "      <td>...</td>\n",
              "      <td>...</td>\n",
              "    </tr>\n",
              "    <tr>\n",
              "      <th>24541</th>\n",
              "      <td>I don’t know why thinks he can continue to lie...</td>\n",
              "      <td>2020-10-23 03:46:25</td>\n",
              "      <td>[@RandPaul]</td>\n",
              "      <td>[@JoeBiden]</td>\n",
              "      <td>[]</td>\n",
              "    </tr>\n",
              "    <tr>\n",
              "      <th>24542</th>\n",
              "      <td>President excels at communicating directly to ...</td>\n",
              "      <td>2020-10-23 03:42:05</td>\n",
              "      <td>[@EliseStefanik]</td>\n",
              "      <td>[@realDonaldTrump]</td>\n",
              "      <td>[]</td>\n",
              "    </tr>\n",
              "    <tr>\n",
              "      <th>24543</th>\n",
              "      <td>LIVE Presidential Debate Debates Text VOTE to</td>\n",
              "      <td>2020-10-23 01:03:58</td>\n",
              "      <td>[@TeamTrump]</td>\n",
              "      <td>[]</td>\n",
              "      <td>[#Debates2020]</td>\n",
              "    </tr>\n",
              "    <tr>\n",
              "      <th>24544</th>\n",
              "      <td>Just signed an order to support the workers of...</td>\n",
              "      <td>2020-10-22 21:04:21</td>\n",
              "      <td>[]</td>\n",
              "      <td>[]</td>\n",
              "      <td>[]</td>\n",
              "    </tr>\n",
              "    <tr>\n",
              "      <th>24545</th>\n",
              "      <td>Suburban women want Safety amp Security Joe Bi...</td>\n",
              "      <td>2020-10-22 18:31:46</td>\n",
              "      <td>[]</td>\n",
              "      <td>[]</td>\n",
              "      <td>[]</td>\n",
              "    </tr>\n",
              "  </tbody>\n",
              "</table>\n",
              "<p>24546 rows × 5 columns</p>\n",
              "</div>"
            ],
            "text/plain": [
              "                                                    text  ...        hashtags\n",
              "0      I was thrilled to be back in the Great city of...  ...      [#KAG2020]\n",
              "1      Herridge READ Letter to surveillance court obt...  ...              []\n",
              "2      The Unsolicited Mail In Ballot Scam is a major...  ...              []\n",
              "3      Very friendly telling of events here about Com...  ...              []\n",
              "4      President announced historic steps to protect ...  ...              []\n",
              "...                                                  ...  ...             ...\n",
              "24541  I don’t know why thinks he can continue to lie...  ...              []\n",
              "24542  President excels at communicating directly to ...  ...              []\n",
              "24543      LIVE Presidential Debate Debates Text VOTE to  ...  [#Debates2020]\n",
              "24544  Just signed an order to support the workers of...  ...              []\n",
              "24545  Suburban women want Safety amp Security Joe Bi...  ...              []\n",
              "\n",
              "[24546 rows x 5 columns]"
            ]
          },
          "metadata": {
            "tags": []
          },
          "execution_count": 26
        }
      ]
    },
    {
      "cell_type": "code",
      "metadata": {
        "colab": {
          "base_uri": "https://localhost:8080/"
        },
        "id": "meQUMpuNlChE",
        "outputId": "c8f05ad7-0090-43ed-f7e4-d6151b3b5420"
      },
      "source": [
        "#Identification of languages\n",
        "predicted_languages = [langid.classify(tweet) for tweet in tweets['text']]\n",
        "\n",
        "lang_df = pd.DataFrame(predicted_languages, columns=['language','value'])\n",
        "\n",
        "#Show the top 10 languages & the number of tweets in these languages\n",
        "print(lang_df['language'].value_counts().head(10))"
      ],
      "execution_count": null,
      "outputs": [
        {
          "output_type": "stream",
          "text": [
            "en    23809\n",
            "zh      124\n",
            "fr       67\n",
            "de       64\n",
            "es       57\n",
            "la       52\n",
            "pl       29\n",
            "mt       29\n",
            "nl       27\n",
            "it       27\n",
            "Name: language, dtype: int64\n"
          ],
          "name": "stdout"
        }
      ]
    },
    {
      "cell_type": "code",
      "metadata": {
        "id": "K2XHsLmx1Qif"
      },
      "source": [
        "#We add the column 'language' to the previous table\n",
        "tweets = pd.concat([tweets, lang_df['language']], axis=1)"
      ],
      "execution_count": null,
      "outputs": []
    },
    {
      "cell_type": "code",
      "metadata": {
        "colab": {
          "base_uri": "https://localhost:8080/",
          "height": 204
        },
        "id": "sjqvjk9D4Pyg",
        "outputId": "20775029-71b2-45da-de64-2cc8ebb75e34"
      },
      "source": [
        "#We choose tweets written in English\n",
        "tweets = tweets[(tweets['language'] == 'en')]\n",
        "tweets = tweets.reset_index(drop=True)\n",
        "tweets.head()"
      ],
      "execution_count": null,
      "outputs": [
        {
          "output_type": "execute_result",
          "data": {
            "text/html": [
              "<div>\n",
              "<style scoped>\n",
              "    .dataframe tbody tr th:only-of-type {\n",
              "        vertical-align: middle;\n",
              "    }\n",
              "\n",
              "    .dataframe tbody tr th {\n",
              "        vertical-align: top;\n",
              "    }\n",
              "\n",
              "    .dataframe thead th {\n",
              "        text-align: right;\n",
              "    }\n",
              "</style>\n",
              "<table border=\"1\" class=\"dataframe\">\n",
              "  <thead>\n",
              "    <tr style=\"text-align: right;\">\n",
              "      <th></th>\n",
              "      <th>text</th>\n",
              "      <th>date</th>\n",
              "      <th>retweeted</th>\n",
              "      <th>mentioned</th>\n",
              "      <th>hashtags</th>\n",
              "      <th>language</th>\n",
              "    </tr>\n",
              "  </thead>\n",
              "  <tbody>\n",
              "    <tr>\n",
              "      <th>0</th>\n",
              "      <td>I was thrilled to be back in the Great city of...</td>\n",
              "      <td>2020-03-03 01:34:50</td>\n",
              "      <td>[]</td>\n",
              "      <td>[]</td>\n",
              "      <td>[#KAG2020]</td>\n",
              "      <td>en</td>\n",
              "    </tr>\n",
              "    <tr>\n",
              "      <th>1</th>\n",
              "      <td>Herridge READ Letter to surveillance court obt...</td>\n",
              "      <td>2020-01-17 03:22:47</td>\n",
              "      <td>[@CBS_Herridge]</td>\n",
              "      <td>[]</td>\n",
              "      <td>[]</td>\n",
              "      <td>en</td>\n",
              "    </tr>\n",
              "    <tr>\n",
              "      <th>2</th>\n",
              "      <td>The Unsolicited Mail In Ballot Scam is a major...</td>\n",
              "      <td>2020-09-12 20:10:58</td>\n",
              "      <td>[]</td>\n",
              "      <td>[]</td>\n",
              "      <td>[]</td>\n",
              "      <td>en</td>\n",
              "    </tr>\n",
              "    <tr>\n",
              "      <th>3</th>\n",
              "      <td>Very friendly telling of events here about Com...</td>\n",
              "      <td>2020-01-17 13:13:59</td>\n",
              "      <td>[@MZHemingway]</td>\n",
              "      <td>[]</td>\n",
              "      <td>[]</td>\n",
              "      <td>en</td>\n",
              "    </tr>\n",
              "    <tr>\n",
              "      <th>4</th>\n",
              "      <td>President announced historic steps to protect ...</td>\n",
              "      <td>2020-01-17 00:11:56</td>\n",
              "      <td>[@WhiteHouse]</td>\n",
              "      <td>[@realDonaldTrump]</td>\n",
              "      <td>[]</td>\n",
              "      <td>en</td>\n",
              "    </tr>\n",
              "  </tbody>\n",
              "</table>\n",
              "</div>"
            ],
            "text/plain": [
              "                                                text  ... language\n",
              "0  I was thrilled to be back in the Great city of...  ...       en\n",
              "1  Herridge READ Letter to surveillance court obt...  ...       en\n",
              "2  The Unsolicited Mail In Ballot Scam is a major...  ...       en\n",
              "3  Very friendly telling of events here about Com...  ...       en\n",
              "4  President announced historic steps to protect ...  ...       en\n",
              "\n",
              "[5 rows x 6 columns]"
            ]
          },
          "metadata": {
            "tags": []
          },
          "execution_count": 29
        }
      ]
    },
    {
      "cell_type": "code",
      "metadata": {
        "id": "z8cpwAhQ2sMn"
      },
      "source": [
        "#tokenization, lemmatization, stopwords removal\r\n",
        "def clean_tweet(tweet):\r\n",
        "    tweet = tweet.lower() # lower case\r\n",
        "    tweet_tokens = word_tokenize(tweet) #tokenization\r\n",
        "    filtered_words = [w for w in tweet_tokens if not w in stop_words] #stopwords removal\r\n",
        "\r\n",
        "    lemmatizer = WordNetLemmatizer()\r\n",
        "    lemma_words = [lemmatizer.lemmatize(w, pos='a') for w in filtered_words] #lemmatization\r\n",
        "\r\n",
        "    return ' '.join(filtered_words)"
      ],
      "execution_count": null,
      "outputs": []
    },
    {
      "cell_type": "code",
      "metadata": {
        "id": "vX-zVWgqKbHX"
      },
      "source": [
        "tweets['clean_tweet'] = tweets.text.apply(clean_tweet)"
      ],
      "execution_count": null,
      "outputs": []
    },
    {
      "cell_type": "code",
      "metadata": {
        "id": "S_Rup8CbPc0_",
        "colab": {
          "base_uri": "https://localhost:8080/",
          "height": 204
        },
        "outputId": "02615939-b0c8-4a77-b0c8-ad8cacb56ca8"
      },
      "source": [
        "column_names = ['text','clean_tweet','date','retweeted','mentioned','hashtags','language']\r\n",
        "tweets = tweets.reindex(columns=column_names)\r\n",
        "tweets.head()"
      ],
      "execution_count": null,
      "outputs": [
        {
          "output_type": "execute_result",
          "data": {
            "text/html": [
              "<div>\n",
              "<style scoped>\n",
              "    .dataframe tbody tr th:only-of-type {\n",
              "        vertical-align: middle;\n",
              "    }\n",
              "\n",
              "    .dataframe tbody tr th {\n",
              "        vertical-align: top;\n",
              "    }\n",
              "\n",
              "    .dataframe thead th {\n",
              "        text-align: right;\n",
              "    }\n",
              "</style>\n",
              "<table border=\"1\" class=\"dataframe\">\n",
              "  <thead>\n",
              "    <tr style=\"text-align: right;\">\n",
              "      <th></th>\n",
              "      <th>text</th>\n",
              "      <th>clean_tweet</th>\n",
              "      <th>date</th>\n",
              "      <th>retweeted</th>\n",
              "      <th>mentioned</th>\n",
              "      <th>hashtags</th>\n",
              "      <th>language</th>\n",
              "    </tr>\n",
              "  </thead>\n",
              "  <tbody>\n",
              "    <tr>\n",
              "      <th>0</th>\n",
              "      <td>I was thrilled to be back in the Great city of...</td>\n",
              "      <td>thrilled back great city charlotte north carol...</td>\n",
              "      <td>2020-03-03 01:34:50</td>\n",
              "      <td>[]</td>\n",
              "      <td>[]</td>\n",
              "      <td>[#KAG2020]</td>\n",
              "      <td>en</td>\n",
              "    </tr>\n",
              "    <tr>\n",
              "      <th>1</th>\n",
              "      <td>Herridge READ Letter to surveillance court obt...</td>\n",
              "      <td>herridge read letter surveillance court obtain...</td>\n",
              "      <td>2020-01-17 03:22:47</td>\n",
              "      <td>[@CBS_Herridge]</td>\n",
              "      <td>[]</td>\n",
              "      <td>[]</td>\n",
              "      <td>en</td>\n",
              "    </tr>\n",
              "    <tr>\n",
              "      <th>2</th>\n",
              "      <td>The Unsolicited Mail In Ballot Scam is a major...</td>\n",
              "      <td>unsolicited mail ballot scam major threat demo...</td>\n",
              "      <td>2020-09-12 20:10:58</td>\n",
              "      <td>[]</td>\n",
              "      <td>[]</td>\n",
              "      <td>[]</td>\n",
              "      <td>en</td>\n",
              "    </tr>\n",
              "    <tr>\n",
              "      <th>3</th>\n",
              "      <td>Very friendly telling of events here about Com...</td>\n",
              "      <td>friendly telling events comeys apparent leakin...</td>\n",
              "      <td>2020-01-17 13:13:59</td>\n",
              "      <td>[@MZHemingway]</td>\n",
              "      <td>[]</td>\n",
              "      <td>[]</td>\n",
              "      <td>en</td>\n",
              "    </tr>\n",
              "    <tr>\n",
              "      <th>4</th>\n",
              "      <td>President announced historic steps to protect ...</td>\n",
              "      <td>president announced historic steps protect con...</td>\n",
              "      <td>2020-01-17 00:11:56</td>\n",
              "      <td>[@WhiteHouse]</td>\n",
              "      <td>[@realDonaldTrump]</td>\n",
              "      <td>[]</td>\n",
              "      <td>en</td>\n",
              "    </tr>\n",
              "  </tbody>\n",
              "</table>\n",
              "</div>"
            ],
            "text/plain": [
              "                                                text  ... language\n",
              "0  I was thrilled to be back in the Great city of...  ...       en\n",
              "1  Herridge READ Letter to surveillance court obt...  ...       en\n",
              "2  The Unsolicited Mail In Ballot Scam is a major...  ...       en\n",
              "3  Very friendly telling of events here about Com...  ...       en\n",
              "4  President announced historic steps to protect ...  ...       en\n",
              "\n",
              "[5 rows x 7 columns]"
            ]
          },
          "metadata": {
            "tags": []
          },
          "execution_count": 32
        }
      ]
    },
    {
      "cell_type": "markdown",
      "metadata": {
        "id": "pEQPUjHN_CBw"
      },
      "source": [
        "Analysis"
      ]
    },
    {
      "cell_type": "code",
      "metadata": {
        "id": "W5k4iPsp-CPz"
      },
      "source": [
        "#subjectivity\n",
        "def getSubjectivity(text):\n",
        "  return TextBlob(text).sentiment.subjectivity"
      ],
      "execution_count": null,
      "outputs": []
    },
    {
      "cell_type": "code",
      "metadata": {
        "id": "ZbQN7nyC-EPY"
      },
      "source": [
        "#polarity\n",
        "def getPolarity(text):\n",
        "  return TextBlob(text).sentiment.polarity"
      ],
      "execution_count": null,
      "outputs": []
    },
    {
      "cell_type": "code",
      "metadata": {
        "id": "1VTsAMYZAbfq"
      },
      "source": [
        "#we are adding two new columns\n",
        "tweets['subjectivity'] = tweets['clean_tweet'].apply(getSubjectivity)\n",
        "tweets['polarity'] = tweets['clean_tweet'].apply(getPolarity)"
      ],
      "execution_count": null,
      "outputs": []
    },
    {
      "cell_type": "code",
      "metadata": {
        "id": "JtOilXQ0CnQa"
      },
      "source": [
        "#Function to determine if tweet is positive, neutral or negative.\n",
        "def getAnalysis(score):\n",
        "  if score < 0:\n",
        "    return \"Negative\"\n",
        "  elif score == 0:\n",
        "    return \"Neutral\"\n",
        "  else:\n",
        "    return \"Positive\""
      ],
      "execution_count": null,
      "outputs": []
    },
    {
      "cell_type": "code",
      "metadata": {
        "colab": {
          "base_uri": "https://localhost:8080/",
          "height": 598
        },
        "id": "61TjdX0DDGcW",
        "outputId": "68814611-49a2-45fe-a070-87b2544d20c7"
      },
      "source": [
        "tweets['sentiment'] = tweets['polarity'].apply(getAnalysis)\n",
        "tweets.head()"
      ],
      "execution_count": null,
      "outputs": [
        {
          "output_type": "execute_result",
          "data": {
            "text/html": [
              "<div>\n",
              "<style scoped>\n",
              "    .dataframe tbody tr th:only-of-type {\n",
              "        vertical-align: middle;\n",
              "    }\n",
              "\n",
              "    .dataframe tbody tr th {\n",
              "        vertical-align: top;\n",
              "    }\n",
              "\n",
              "    .dataframe thead th {\n",
              "        text-align: right;\n",
              "    }\n",
              "</style>\n",
              "<table border=\"1\" class=\"dataframe\">\n",
              "  <thead>\n",
              "    <tr style=\"text-align: right;\">\n",
              "      <th></th>\n",
              "      <th>text</th>\n",
              "      <th>clean_tweet</th>\n",
              "      <th>date</th>\n",
              "      <th>retweeted</th>\n",
              "      <th>mentioned</th>\n",
              "      <th>hashtags</th>\n",
              "      <th>language</th>\n",
              "      <th>subjectivity</th>\n",
              "      <th>polarity</th>\n",
              "      <th>sentiment</th>\n",
              "    </tr>\n",
              "  </thead>\n",
              "  <tbody>\n",
              "    <tr>\n",
              "      <th>0</th>\n",
              "      <td>I was thrilled to be back in the Great city of...</td>\n",
              "      <td>thrilled back great city charlotte north carol...</td>\n",
              "      <td>2020-03-03 01:34:50</td>\n",
              "      <td>[]</td>\n",
              "      <td>[]</td>\n",
              "      <td>[#KAG2020]</td>\n",
              "      <td>en</td>\n",
              "      <td>0.483333</td>\n",
              "      <td>0.450000</td>\n",
              "      <td>Positive</td>\n",
              "    </tr>\n",
              "    <tr>\n",
              "      <th>1</th>\n",
              "      <td>Herridge READ Letter to surveillance court obt...</td>\n",
              "      <td>herridge read letter surveillance court obtain...</td>\n",
              "      <td>2020-01-17 03:22:47</td>\n",
              "      <td>[@CBS_Herridge]</td>\n",
              "      <td>[]</td>\n",
              "      <td>[]</td>\n",
              "      <td>en</td>\n",
              "      <td>0.100000</td>\n",
              "      <td>0.100000</td>\n",
              "      <td>Positive</td>\n",
              "    </tr>\n",
              "    <tr>\n",
              "      <th>2</th>\n",
              "      <td>The Unsolicited Mail In Ballot Scam is a major...</td>\n",
              "      <td>unsolicited mail ballot scam major threat demo...</td>\n",
              "      <td>2020-09-12 20:10:58</td>\n",
              "      <td>[]</td>\n",
              "      <td>[]</td>\n",
              "      <td>[]</td>\n",
              "      <td>en</td>\n",
              "      <td>0.454762</td>\n",
              "      <td>0.029464</td>\n",
              "      <td>Positive</td>\n",
              "    </tr>\n",
              "    <tr>\n",
              "      <th>3</th>\n",
              "      <td>Very friendly telling of events here about Com...</td>\n",
              "      <td>friendly telling events comeys apparent leakin...</td>\n",
              "      <td>2020-01-17 13:13:59</td>\n",
              "      <td>[@MZHemingway]</td>\n",
              "      <td>[]</td>\n",
              "      <td>[]</td>\n",
              "      <td>en</td>\n",
              "      <td>0.425000</td>\n",
              "      <td>0.212500</td>\n",
              "      <td>Positive</td>\n",
              "    </tr>\n",
              "    <tr>\n",
              "      <th>4</th>\n",
              "      <td>President announced historic steps to protect ...</td>\n",
              "      <td>president announced historic steps protect con...</td>\n",
              "      <td>2020-01-17 00:11:56</td>\n",
              "      <td>[@WhiteHouse]</td>\n",
              "      <td>[@realDonaldTrump]</td>\n",
              "      <td>[]</td>\n",
              "      <td>en</td>\n",
              "      <td>0.200794</td>\n",
              "      <td>0.095238</td>\n",
              "      <td>Positive</td>\n",
              "    </tr>\n",
              "  </tbody>\n",
              "</table>\n",
              "</div>"
            ],
            "text/plain": [
              "                                                text  ... sentiment\n",
              "0  I was thrilled to be back in the Great city of...  ...  Positive\n",
              "1  Herridge READ Letter to surveillance court obt...  ...  Positive\n",
              "2  The Unsolicited Mail In Ballot Scam is a major...  ...  Positive\n",
              "3  Very friendly telling of events here about Com...  ...  Positive\n",
              "4  President announced historic steps to protect ...  ...  Positive\n",
              "\n",
              "[5 rows x 10 columns]"
            ]
          },
          "metadata": {
            "tags": []
          },
          "execution_count": 37
        }
      ]
    },
    {
      "cell_type": "code",
      "metadata": {
        "id": "xaWnvFAoSUlB"
      },
      "source": [
        "column_names = ['text','clean_tweet','date','subjectivity','polarity','sentiment','retweeted','mentioned','hashtags','language']\r\n",
        "tweets = tweets.reindex(columns=column_names)"
      ],
      "execution_count": null,
      "outputs": []
    },
    {
      "cell_type": "code",
      "metadata": {
        "colab": {
          "base_uri": "https://localhost:8080/",
          "height": 598
        },
        "id": "mfuveDKIa-P2",
        "outputId": "b8fca273-3119-468f-e85f-b0e064b4bb07"
      },
      "source": [
        "tweets['month'] = (tweets['date']).dt.date\n",
        "tweets['month'] = pd.to_datetime(tweets['month'], format='%Y-%m-%d')\n",
        "tweets.head()"
      ],
      "execution_count": null,
      "outputs": [
        {
          "output_type": "execute_result",
          "data": {
            "text/html": [
              "<div>\n",
              "<style scoped>\n",
              "    .dataframe tbody tr th:only-of-type {\n",
              "        vertical-align: middle;\n",
              "    }\n",
              "\n",
              "    .dataframe tbody tr th {\n",
              "        vertical-align: top;\n",
              "    }\n",
              "\n",
              "    .dataframe thead th {\n",
              "        text-align: right;\n",
              "    }\n",
              "</style>\n",
              "<table border=\"1\" class=\"dataframe\">\n",
              "  <thead>\n",
              "    <tr style=\"text-align: right;\">\n",
              "      <th></th>\n",
              "      <th>text</th>\n",
              "      <th>clean_tweet</th>\n",
              "      <th>date</th>\n",
              "      <th>subjectivity</th>\n",
              "      <th>polarity</th>\n",
              "      <th>sentiment</th>\n",
              "      <th>retweeted</th>\n",
              "      <th>mentioned</th>\n",
              "      <th>hashtags</th>\n",
              "      <th>language</th>\n",
              "      <th>month</th>\n",
              "    </tr>\n",
              "  </thead>\n",
              "  <tbody>\n",
              "    <tr>\n",
              "      <th>0</th>\n",
              "      <td>I was thrilled to be back in the Great city of...</td>\n",
              "      <td>thrilled back great city charlotte north carol...</td>\n",
              "      <td>2020-03-03 01:34:50</td>\n",
              "      <td>0.483333</td>\n",
              "      <td>0.450000</td>\n",
              "      <td>Positive</td>\n",
              "      <td>[]</td>\n",
              "      <td>[]</td>\n",
              "      <td>[#KAG2020]</td>\n",
              "      <td>en</td>\n",
              "      <td>2020-03-03</td>\n",
              "    </tr>\n",
              "    <tr>\n",
              "      <th>1</th>\n",
              "      <td>Herridge READ Letter to surveillance court obt...</td>\n",
              "      <td>herridge read letter surveillance court obtain...</td>\n",
              "      <td>2020-01-17 03:22:47</td>\n",
              "      <td>0.100000</td>\n",
              "      <td>0.100000</td>\n",
              "      <td>Positive</td>\n",
              "      <td>[@CBS_Herridge]</td>\n",
              "      <td>[]</td>\n",
              "      <td>[]</td>\n",
              "      <td>en</td>\n",
              "      <td>2020-01-17</td>\n",
              "    </tr>\n",
              "    <tr>\n",
              "      <th>2</th>\n",
              "      <td>The Unsolicited Mail In Ballot Scam is a major...</td>\n",
              "      <td>unsolicited mail ballot scam major threat demo...</td>\n",
              "      <td>2020-09-12 20:10:58</td>\n",
              "      <td>0.454762</td>\n",
              "      <td>0.029464</td>\n",
              "      <td>Positive</td>\n",
              "      <td>[]</td>\n",
              "      <td>[]</td>\n",
              "      <td>[]</td>\n",
              "      <td>en</td>\n",
              "      <td>2020-09-12</td>\n",
              "    </tr>\n",
              "    <tr>\n",
              "      <th>3</th>\n",
              "      <td>Very friendly telling of events here about Com...</td>\n",
              "      <td>friendly telling events comeys apparent leakin...</td>\n",
              "      <td>2020-01-17 13:13:59</td>\n",
              "      <td>0.425000</td>\n",
              "      <td>0.212500</td>\n",
              "      <td>Positive</td>\n",
              "      <td>[@MZHemingway]</td>\n",
              "      <td>[]</td>\n",
              "      <td>[]</td>\n",
              "      <td>en</td>\n",
              "      <td>2020-01-17</td>\n",
              "    </tr>\n",
              "    <tr>\n",
              "      <th>4</th>\n",
              "      <td>President announced historic steps to protect ...</td>\n",
              "      <td>president announced historic steps protect con...</td>\n",
              "      <td>2020-01-17 00:11:56</td>\n",
              "      <td>0.200794</td>\n",
              "      <td>0.095238</td>\n",
              "      <td>Positive</td>\n",
              "      <td>[@WhiteHouse]</td>\n",
              "      <td>[@realDonaldTrump]</td>\n",
              "      <td>[]</td>\n",
              "      <td>en</td>\n",
              "      <td>2020-01-17</td>\n",
              "    </tr>\n",
              "  </tbody>\n",
              "</table>\n",
              "</div>"
            ],
            "text/plain": [
              "                                                text  ...      month\n",
              "0  I was thrilled to be back in the Great city of...  ... 2020-03-03\n",
              "1  Herridge READ Letter to surveillance court obt...  ... 2020-01-17\n",
              "2  The Unsolicited Mail In Ballot Scam is a major...  ... 2020-09-12\n",
              "3  Very friendly telling of events here about Com...  ... 2020-01-17\n",
              "4  President announced historic steps to protect ...  ... 2020-01-17\n",
              "\n",
              "[5 rows x 11 columns]"
            ]
          },
          "metadata": {
            "tags": []
          },
          "execution_count": 39
        }
      ]
    },
    {
      "cell_type": "code",
      "metadata": {
        "colab": {
          "base_uri": "https://localhost:8080/"
        },
        "id": "cbYhKl9Flr9C",
        "outputId": "440725f3-012b-451e-9175-73493915b502"
      },
      "source": [
        "print('Number of positive tweets:',len(tweets[(tweets['sentiment'] == 'Positive')]),'\\n')\n",
        "print('Number of neutral tweets:',len(tweets[(tweets['sentiment'] == 'Neutral')]),'\\n')\n",
        "print('Number of negative tweets:',len(tweets[(tweets['sentiment'] == 'Negative')]),'\\n')\n",
        "print('The sum of all tweets:',len(tweets[(tweets['sentiment'] == 'Positive')])+len(tweets[(tweets['sentiment'] == 'Neutral')])+len(tweets[(tweets['sentiment'] == 'Negative')]))"
      ],
      "execution_count": null,
      "outputs": [
        {
          "output_type": "stream",
          "text": [
            "Number of positive tweets: 11996 \n",
            "\n",
            "Number of neutral tweets: 6674 \n",
            "\n",
            "Number of negative tweets: 5139 \n",
            "\n",
            "The sum of all tweets: 23809\n"
          ],
          "name": "stdout"
        }
      ]
    },
    {
      "cell_type": "code",
      "metadata": {
        "colab": {
          "base_uri": "https://localhost:8080/",
          "height": 204
        },
        "id": "I9jC4FFyHa26",
        "outputId": "876a1ed6-2aa3-4a28-ac13-efd70d772c3e"
      },
      "source": [
        "viz = tweets.groupby(tweets['month'].dt.year)[['text']].count()\r\n",
        "viz"
      ],
      "execution_count": null,
      "outputs": [
        {
          "output_type": "execute_result",
          "data": {
            "text/html": [
              "<div>\n",
              "<style scoped>\n",
              "    .dataframe tbody tr th:only-of-type {\n",
              "        vertical-align: middle;\n",
              "    }\n",
              "\n",
              "    .dataframe tbody tr th {\n",
              "        vertical-align: top;\n",
              "    }\n",
              "\n",
              "    .dataframe thead th {\n",
              "        text-align: right;\n",
              "    }\n",
              "</style>\n",
              "<table border=\"1\" class=\"dataframe\">\n",
              "  <thead>\n",
              "    <tr style=\"text-align: right;\">\n",
              "      <th></th>\n",
              "      <th>text</th>\n",
              "    </tr>\n",
              "    <tr>\n",
              "      <th>month</th>\n",
              "      <th></th>\n",
              "    </tr>\n",
              "  </thead>\n",
              "  <tbody>\n",
              "    <tr>\n",
              "      <th>2017</th>\n",
              "      <td>2386</td>\n",
              "    </tr>\n",
              "    <tr>\n",
              "      <th>2018</th>\n",
              "      <td>3432</td>\n",
              "    </tr>\n",
              "    <tr>\n",
              "      <th>2019</th>\n",
              "      <td>7286</td>\n",
              "    </tr>\n",
              "    <tr>\n",
              "      <th>2020</th>\n",
              "      <td>10705</td>\n",
              "    </tr>\n",
              "  </tbody>\n",
              "</table>\n",
              "</div>"
            ],
            "text/plain": [
              "        text\n",
              "month       \n",
              "2017    2386\n",
              "2018    3432\n",
              "2019    7286\n",
              "2020   10705"
            ]
          },
          "metadata": {
            "tags": []
          },
          "execution_count": 41
        }
      ]
    },
    {
      "cell_type": "code",
      "metadata": {
        "colab": {
          "base_uri": "https://localhost:8080/",
          "height": 451
        },
        "id": "yCxrlLC05a2k",
        "outputId": "b1342f26-c1ee-492c-e6ca-f5f01dddf709"
      },
      "source": [
        "#Visualization of the number of tweets in individual years\r\n",
        "fig, ax = plt.subplots(figsize=(16,7))\r\n",
        "viz.plot(ax=ax, color=['dodgerblue'], legend=False)\r\n",
        "plt.title('Amount of tweets in individual years')\r\n",
        "plt.style.use('fast')\r\n",
        "ax.set_xlabel('Year')\r\n",
        "ax.set_ylabel('Amount of tweets') \r\n",
        "ax.annotate('2417', (2017, 2417+200), ha='center')\r\n",
        "ax.annotate('3446', (2018, 3446+300), ha='center')\r\n",
        "ax.annotate('7333', (2019, 7333+300), ha='center')\r\n",
        "ax.annotate('10778', (2020, 10778+200), ha='center')\r\n",
        "for s in ['top', 'left', 'right']:\r\n",
        "    ax.spines[s].set_visible(False)\r\n",
        "ax.set_xticklabels(['','2017','','2018','','2019','','2020'])\r\n",
        "ax.grid(axis='y', linestyle='-', alpha=0.4)    \r\n",
        "plt.show()"
      ],
      "execution_count": null,
      "outputs": [
        {
          "output_type": "display_data",
          "data": {
            "image/png": "[encoded data removed]",
            "text/plain": [
              "<Figure size 1152x504 with 1 Axes>"
            ]
          },
          "metadata": {
            "tags": [],
            "needs_background": "light"
          }
        }
      ]
    },
    {
      "cell_type": "markdown",
      "metadata": {
        "id": "doYNpOaIuBQx"
      },
      "source": [
        "Tweets split by years:"
      ]
    },
    {
      "cell_type": "code",
      "metadata": {
        "id": "J26ypHL4uAOW"
      },
      "source": [
        "year2017 = tweets[(tweets['date'] >= '2017-01-20') & (tweets['date'] <= '2017-12-31' )]\n",
        "year2017 = year2017.reset_index(drop=True)"
      ],
      "execution_count": null,
      "outputs": []
    },
    {
      "cell_type": "code",
      "metadata": {
        "id": "vPVPctB-uN5K"
      },
      "source": [
        "year2018 = tweets[(tweets['date'] >= '2018-01-01') & (tweets['date'] <= '2018-12-31' )]\n",
        "year2018 = year2018.reset_index(drop=True)"
      ],
      "execution_count": null,
      "outputs": []
    },
    {
      "cell_type": "code",
      "metadata": {
        "id": "55rXQBibu04a"
      },
      "source": [
        "year2019 = tweets[(tweets['date'] >= '2019-01-01') & (tweets['date'] <= '2019-12-31' )]\n",
        "year2019 = year2019.reset_index(drop=True)"
      ],
      "execution_count": null,
      "outputs": []
    },
    {
      "cell_type": "code",
      "metadata": {
        "id": "TzaYbemouPYx"
      },
      "source": [
        "year2020 = tweets[(tweets['date'] >= '2020-01-01') & (tweets['date'] <= '2020-12-31' )]\n",
        "year2020 = year2020.reset_index(drop=True)"
      ],
      "execution_count": null,
      "outputs": []
    },
    {
      "cell_type": "markdown",
      "metadata": {
        "id": "5VdPovvHHV-d"
      },
      "source": [
        "**Year 2017**\n",
        "\n"
      ]
    },
    {
      "cell_type": "code",
      "metadata": {
        "colab": {
          "base_uri": "https://localhost:8080/",
          "height": 1000
        },
        "id": "xYJqggVFxikZ",
        "outputId": "53d9dd1f-ca79-40b3-8727-23427068da21"
      },
      "source": [
        "group2017 = year2017.groupby([year2017['month'].dt.month, 'sentiment'])[['sentiment']].count()\n",
        "group2017.columns = ['count']\n",
        "group2017"
      ],
      "execution_count": null,
      "outputs": [
        {
          "output_type": "execute_result",
          "data": {
            "text/html": [
              "<div>\n",
              "<style scoped>\n",
              "    .dataframe tbody tr th:only-of-type {\n",
              "        vertical-align: middle;\n",
              "    }\n",
              "\n",
              "    .dataframe tbody tr th {\n",
              "        vertical-align: top;\n",
              "    }\n",
              "\n",
              "    .dataframe thead th {\n",
              "        text-align: right;\n",
              "    }\n",
              "</style>\n",
              "<table border=\"1\" class=\"dataframe\">\n",
              "  <thead>\n",
              "    <tr style=\"text-align: right;\">\n",
              "      <th></th>\n",
              "      <th></th>\n",
              "      <th>count</th>\n",
              "    </tr>\n",
              "    <tr>\n",
              "      <th>month</th>\n",
              "      <th>sentiment</th>\n",
              "      <th></th>\n",
              "    </tr>\n",
              "  </thead>\n",
              "  <tbody>\n",
              "    <tr>\n",
              "      <th rowspan=\"3\" valign=\"top\">1</th>\n",
              "      <th>Negative</th>\n",
              "      <td>18</td>\n",
              "    </tr>\n",
              "    <tr>\n",
              "      <th>Neutral</th>\n",
              "      <td>22</td>\n",
              "    </tr>\n",
              "    <tr>\n",
              "      <th>Positive</th>\n",
              "      <td>32</td>\n",
              "    </tr>\n",
              "    <tr>\n",
              "      <th rowspan=\"3\" valign=\"top\">2</th>\n",
              "      <th>Negative</th>\n",
              "      <td>45</td>\n",
              "    </tr>\n",
              "    <tr>\n",
              "      <th>Neutral</th>\n",
              "      <td>28</td>\n",
              "    </tr>\n",
              "    <tr>\n",
              "      <th>Positive</th>\n",
              "      <td>80</td>\n",
              "    </tr>\n",
              "    <tr>\n",
              "      <th rowspan=\"3\" valign=\"top\">3</th>\n",
              "      <th>Negative</th>\n",
              "      <td>27</td>\n",
              "    </tr>\n",
              "    <tr>\n",
              "      <th>Neutral</th>\n",
              "      <td>41</td>\n",
              "    </tr>\n",
              "    <tr>\n",
              "      <th>Positive</th>\n",
              "      <td>73</td>\n",
              "    </tr>\n",
              "    <tr>\n",
              "      <th rowspan=\"3\" valign=\"top\">4</th>\n",
              "      <th>Negative</th>\n",
              "      <td>31</td>\n",
              "    </tr>\n",
              "    <tr>\n",
              "      <th>Neutral</th>\n",
              "      <td>36</td>\n",
              "    </tr>\n",
              "    <tr>\n",
              "      <th>Positive</th>\n",
              "      <td>80</td>\n",
              "    </tr>\n",
              "    <tr>\n",
              "      <th rowspan=\"3\" valign=\"top\">5</th>\n",
              "      <th>Negative</th>\n",
              "      <td>34</td>\n",
              "    </tr>\n",
              "    <tr>\n",
              "      <th>Neutral</th>\n",
              "      <td>46</td>\n",
              "    </tr>\n",
              "    <tr>\n",
              "      <th>Positive</th>\n",
              "      <td>70</td>\n",
              "    </tr>\n",
              "    <tr>\n",
              "      <th rowspan=\"3\" valign=\"top\">6</th>\n",
              "      <th>Negative</th>\n",
              "      <td>41</td>\n",
              "    </tr>\n",
              "    <tr>\n",
              "      <th>Neutral</th>\n",
              "      <td>61</td>\n",
              "    </tr>\n",
              "    <tr>\n",
              "      <th>Positive</th>\n",
              "      <td>103</td>\n",
              "    </tr>\n",
              "    <tr>\n",
              "      <th rowspan=\"3\" valign=\"top\">7</th>\n",
              "      <th>Negative</th>\n",
              "      <td>48</td>\n",
              "    </tr>\n",
              "    <tr>\n",
              "      <th>Neutral</th>\n",
              "      <td>60</td>\n",
              "    </tr>\n",
              "    <tr>\n",
              "      <th>Positive</th>\n",
              "      <td>127</td>\n",
              "    </tr>\n",
              "    <tr>\n",
              "      <th rowspan=\"3\" valign=\"top\">8</th>\n",
              "      <th>Negative</th>\n",
              "      <td>53</td>\n",
              "    </tr>\n",
              "    <tr>\n",
              "      <th>Neutral</th>\n",
              "      <td>64</td>\n",
              "    </tr>\n",
              "    <tr>\n",
              "      <th>Positive</th>\n",
              "      <td>143</td>\n",
              "    </tr>\n",
              "    <tr>\n",
              "      <th rowspan=\"3\" valign=\"top\">9</th>\n",
              "      <th>Negative</th>\n",
              "      <td>43</td>\n",
              "    </tr>\n",
              "    <tr>\n",
              "      <th>Neutral</th>\n",
              "      <td>76</td>\n",
              "    </tr>\n",
              "    <tr>\n",
              "      <th>Positive</th>\n",
              "      <td>173</td>\n",
              "    </tr>\n",
              "    <tr>\n",
              "      <th rowspan=\"3\" valign=\"top\">10</th>\n",
              "      <th>Negative</th>\n",
              "      <td>58</td>\n",
              "    </tr>\n",
              "    <tr>\n",
              "      <th>Neutral</th>\n",
              "      <td>75</td>\n",
              "    </tr>\n",
              "    <tr>\n",
              "      <th>Positive</th>\n",
              "      <td>150</td>\n",
              "    </tr>\n",
              "    <tr>\n",
              "      <th rowspan=\"3\" valign=\"top\">11</th>\n",
              "      <th>Negative</th>\n",
              "      <td>56</td>\n",
              "    </tr>\n",
              "    <tr>\n",
              "      <th>Neutral</th>\n",
              "      <td>48</td>\n",
              "    </tr>\n",
              "    <tr>\n",
              "      <th>Positive</th>\n",
              "      <td>148</td>\n",
              "    </tr>\n",
              "    <tr>\n",
              "      <th rowspan=\"3\" valign=\"top\">12</th>\n",
              "      <th>Negative</th>\n",
              "      <td>43</td>\n",
              "    </tr>\n",
              "    <tr>\n",
              "      <th>Neutral</th>\n",
              "      <td>36</td>\n",
              "    </tr>\n",
              "    <tr>\n",
              "      <th>Positive</th>\n",
              "      <td>108</td>\n",
              "    </tr>\n",
              "  </tbody>\n",
              "</table>\n",
              "</div>"
            ],
            "text/plain": [
              "                 count\n",
              "month sentiment       \n",
              "1     Negative      18\n",
              "      Neutral       22\n",
              "      Positive      32\n",
              "2     Negative      45\n",
              "      Neutral       28\n",
              "      Positive      80\n",
              "3     Negative      27\n",
              "      Neutral       41\n",
              "      Positive      73\n",
              "4     Negative      31\n",
              "      Neutral       36\n",
              "      Positive      80\n",
              "5     Negative      34\n",
              "      Neutral       46\n",
              "      Positive      70\n",
              "6     Negative      41\n",
              "      Neutral       61\n",
              "      Positive     103\n",
              "7     Negative      48\n",
              "      Neutral       60\n",
              "      Positive     127\n",
              "8     Negative      53\n",
              "      Neutral       64\n",
              "      Positive     143\n",
              "9     Negative      43\n",
              "      Neutral       76\n",
              "      Positive     173\n",
              "10    Negative      58\n",
              "      Neutral       75\n",
              "      Positive     150\n",
              "11    Negative      56\n",
              "      Neutral       48\n",
              "      Positive     148\n",
              "12    Negative      43\n",
              "      Neutral       36\n",
              "      Positive     108"
            ]
          },
          "metadata": {
            "tags": []
          },
          "execution_count": 47
        }
      ]
    },
    {
      "cell_type": "code",
      "metadata": {
        "colab": {
          "base_uri": "https://localhost:8080/",
          "height": 494
        },
        "id": "-x5n3bKK6EDb",
        "outputId": "145139ce-c0e7-46fb-e9ba-1fcff1721959"
      },
      "source": [
        "#Stacked column chart\r\n",
        "fig, ax = plt.subplots(figsize=(16,7))\r\n",
        "group2017.groupby(level=0).apply(lambda x: 100 * x / x.sum()).unstack().plot(kind='bar',stacked=True, color=['orangered','darkgray','limegreen'], width=0.6, ax=ax)\r\n",
        "plt.title('Summary of tweets in 2017')\r\n",
        "ax.set_xlabel('Month')\r\n",
        "ax.set_ylabel('Amount of tweets')\r\n",
        "plt.xticks(rotation=45)\r\n",
        "for s in ['top', 'right']:\r\n",
        "    ax.spines[s].set_visible(False)\r\n",
        "#Add this loop to add the annotations\r\n",
        "for p in ax.patches:\r\n",
        "    width = p.get_width()\r\n",
        "    height = p.get_height()\r\n",
        "    x, y = p.get_xy() \r\n",
        "    ax.annotate(f'{height:.3}%', (x + width/2, y + height*0.5), ha='center', fontsize=12, fontweight='light')\r\n",
        "ax.set_xticklabels(['January', 'February', 'March', 'April', 'May', 'June', 'July', 'August', 'September', 'October', 'November', 'December']) \r\n",
        "plt.legend(['Negative','Neutral','Positive'], bbox_to_anchor=(1.015, 0.95), loc='upper left', borderaxespad=0., frameon=False)\r\n",
        "plt.gca().yaxis.set_major_formatter(mtick.PercentFormatter())\r\n",
        "plt.show()"
      ],
      "execution_count": null,
      "outputs": [
        {
          "output_type": "display_data",
          "data": {
            "image/png": "[encoded data removed]",
            "text/plain": [
              "<Figure size 1152x504 with 1 Axes>"
            ]
          },
          "metadata": {
            "tags": [],
            "needs_background": "light"
          }
        }
      ]
    },
    {
      "cell_type": "markdown",
      "metadata": {
        "id": "YyIhMzMCNeKZ"
      },
      "source": [
        "**Year 2018**"
      ]
    },
    {
      "cell_type": "code",
      "metadata": {
        "colab": {
          "base_uri": "https://localhost:8080/",
          "height": 1000
        },
        "id": "7_qJpZ-Mvxx4",
        "outputId": "4dc14f26-adb3-4dfc-a1b6-beaa29518a3a"
      },
      "source": [
        "group2018 = year2018.groupby([year2018['month'].dt.month, 'sentiment'])[['sentiment']].count()\n",
        "group2018.columns = ['count']\n",
        "group2018"
      ],
      "execution_count": null,
      "outputs": [
        {
          "output_type": "execute_result",
          "data": {
            "text/html": [
              "<div>\n",
              "<style scoped>\n",
              "    .dataframe tbody tr th:only-of-type {\n",
              "        vertical-align: middle;\n",
              "    }\n",
              "\n",
              "    .dataframe tbody tr th {\n",
              "        vertical-align: top;\n",
              "    }\n",
              "\n",
              "    .dataframe thead th {\n",
              "        text-align: right;\n",
              "    }\n",
              "</style>\n",
              "<table border=\"1\" class=\"dataframe\">\n",
              "  <thead>\n",
              "    <tr style=\"text-align: right;\">\n",
              "      <th></th>\n",
              "      <th></th>\n",
              "      <th>count</th>\n",
              "    </tr>\n",
              "    <tr>\n",
              "      <th>month</th>\n",
              "      <th>sentiment</th>\n",
              "      <th></th>\n",
              "    </tr>\n",
              "  </thead>\n",
              "  <tbody>\n",
              "    <tr>\n",
              "      <th rowspan=\"3\" valign=\"top\">1</th>\n",
              "      <th>Negative</th>\n",
              "      <td>54</td>\n",
              "    </tr>\n",
              "    <tr>\n",
              "      <th>Neutral</th>\n",
              "      <td>16</td>\n",
              "    </tr>\n",
              "    <tr>\n",
              "      <th>Positive</th>\n",
              "      <td>133</td>\n",
              "    </tr>\n",
              "    <tr>\n",
              "      <th rowspan=\"3\" valign=\"top\">2</th>\n",
              "      <th>Negative</th>\n",
              "      <td>40</td>\n",
              "    </tr>\n",
              "    <tr>\n",
              "      <th>Neutral</th>\n",
              "      <td>27</td>\n",
              "    </tr>\n",
              "    <tr>\n",
              "      <th>Positive</th>\n",
              "      <td>104</td>\n",
              "    </tr>\n",
              "    <tr>\n",
              "      <th rowspan=\"3\" valign=\"top\">3</th>\n",
              "      <th>Negative</th>\n",
              "      <td>30</td>\n",
              "    </tr>\n",
              "    <tr>\n",
              "      <th>Neutral</th>\n",
              "      <td>33</td>\n",
              "    </tr>\n",
              "    <tr>\n",
              "      <th>Positive</th>\n",
              "      <td>106</td>\n",
              "    </tr>\n",
              "    <tr>\n",
              "      <th rowspan=\"3\" valign=\"top\">4</th>\n",
              "      <th>Negative</th>\n",
              "      <td>67</td>\n",
              "    </tr>\n",
              "    <tr>\n",
              "      <th>Neutral</th>\n",
              "      <td>28</td>\n",
              "    </tr>\n",
              "    <tr>\n",
              "      <th>Positive</th>\n",
              "      <td>156</td>\n",
              "    </tr>\n",
              "    <tr>\n",
              "      <th rowspan=\"3\" valign=\"top\">5</th>\n",
              "      <th>Negative</th>\n",
              "      <td>68</td>\n",
              "    </tr>\n",
              "    <tr>\n",
              "      <th>Neutral</th>\n",
              "      <td>35</td>\n",
              "    </tr>\n",
              "    <tr>\n",
              "      <th>Positive</th>\n",
              "      <td>153</td>\n",
              "    </tr>\n",
              "    <tr>\n",
              "      <th rowspan=\"3\" valign=\"top\">6</th>\n",
              "      <th>Negative</th>\n",
              "      <td>91</td>\n",
              "    </tr>\n",
              "    <tr>\n",
              "      <th>Neutral</th>\n",
              "      <td>69</td>\n",
              "    </tr>\n",
              "    <tr>\n",
              "      <th>Positive</th>\n",
              "      <td>216</td>\n",
              "    </tr>\n",
              "    <tr>\n",
              "      <th rowspan=\"3\" valign=\"top\">7</th>\n",
              "      <th>Negative</th>\n",
              "      <td>73</td>\n",
              "    </tr>\n",
              "    <tr>\n",
              "      <th>Neutral</th>\n",
              "      <td>69</td>\n",
              "    </tr>\n",
              "    <tr>\n",
              "      <th>Positive</th>\n",
              "      <td>188</td>\n",
              "    </tr>\n",
              "    <tr>\n",
              "      <th rowspan=\"3\" valign=\"top\">8</th>\n",
              "      <th>Negative</th>\n",
              "      <td>101</td>\n",
              "    </tr>\n",
              "    <tr>\n",
              "      <th>Neutral</th>\n",
              "      <td>51</td>\n",
              "    </tr>\n",
              "    <tr>\n",
              "      <th>Positive</th>\n",
              "      <td>205</td>\n",
              "    </tr>\n",
              "    <tr>\n",
              "      <th rowspan=\"3\" valign=\"top\">9</th>\n",
              "      <th>Negative</th>\n",
              "      <td>62</td>\n",
              "    </tr>\n",
              "    <tr>\n",
              "      <th>Neutral</th>\n",
              "      <td>83</td>\n",
              "    </tr>\n",
              "    <tr>\n",
              "      <th>Positive</th>\n",
              "      <td>210</td>\n",
              "    </tr>\n",
              "    <tr>\n",
              "      <th rowspan=\"3\" valign=\"top\">10</th>\n",
              "      <th>Negative</th>\n",
              "      <td>71</td>\n",
              "    </tr>\n",
              "    <tr>\n",
              "      <th>Neutral</th>\n",
              "      <td>75</td>\n",
              "    </tr>\n",
              "    <tr>\n",
              "      <th>Positive</th>\n",
              "      <td>197</td>\n",
              "    </tr>\n",
              "    <tr>\n",
              "      <th rowspan=\"3\" valign=\"top\">11</th>\n",
              "      <th>Negative</th>\n",
              "      <td>61</td>\n",
              "    </tr>\n",
              "    <tr>\n",
              "      <th>Neutral</th>\n",
              "      <td>57</td>\n",
              "    </tr>\n",
              "    <tr>\n",
              "      <th>Positive</th>\n",
              "      <td>214</td>\n",
              "    </tr>\n",
              "    <tr>\n",
              "      <th rowspan=\"3\" valign=\"top\">12</th>\n",
              "      <th>Negative</th>\n",
              "      <td>63</td>\n",
              "    </tr>\n",
              "    <tr>\n",
              "      <th>Neutral</th>\n",
              "      <td>39</td>\n",
              "    </tr>\n",
              "    <tr>\n",
              "      <th>Positive</th>\n",
              "      <td>176</td>\n",
              "    </tr>\n",
              "  </tbody>\n",
              "</table>\n",
              "</div>"
            ],
            "text/plain": [
              "                 count\n",
              "month sentiment       \n",
              "1     Negative      54\n",
              "      Neutral       16\n",
              "      Positive     133\n",
              "2     Negative      40\n",
              "      Neutral       27\n",
              "      Positive     104\n",
              "3     Negative      30\n",
              "      Neutral       33\n",
              "      Positive     106\n",
              "4     Negative      67\n",
              "      Neutral       28\n",
              "      Positive     156\n",
              "5     Negative      68\n",
              "      Neutral       35\n",
              "      Positive     153\n",
              "6     Negative      91\n",
              "      Neutral       69\n",
              "      Positive     216\n",
              "7     Negative      73\n",
              "      Neutral       69\n",
              "      Positive     188\n",
              "8     Negative     101\n",
              "      Neutral       51\n",
              "      Positive     205\n",
              "9     Negative      62\n",
              "      Neutral       83\n",
              "      Positive     210\n",
              "10    Negative      71\n",
              "      Neutral       75\n",
              "      Positive     197\n",
              "11    Negative      61\n",
              "      Neutral       57\n",
              "      Positive     214\n",
              "12    Negative      63\n",
              "      Neutral       39\n",
              "      Positive     176"
            ]
          },
          "metadata": {
            "tags": []
          },
          "execution_count": 49
        }
      ]
    },
    {
      "cell_type": "code",
      "metadata": {
        "colab": {
          "base_uri": "https://localhost:8080/",
          "height": 494
        },
        "id": "qRBni5YC7Nxo",
        "outputId": "039ef2dc-1a11-452c-e72c-c2a022469a52"
      },
      "source": [
        "#Stacked column chart\r\n",
        "fig, ax = plt.subplots(figsize=(16,7))\r\n",
        "group2018.groupby(level=0).apply(lambda x: 100 * x / x.sum()).unstack().plot(kind='bar',stacked=True, color=['orangered','darkgray','limegreen'], width=0.6, ax=ax)\r\n",
        "plt.title('Summary of tweets in 2018')\r\n",
        "ax.set_xlabel('Month')\r\n",
        "ax.set_ylabel('Amount of tweets')\r\n",
        "plt.xticks(rotation=45)\r\n",
        "for s in ['top', 'right']:\r\n",
        "    ax.spines[s].set_visible(False)\r\n",
        "#Add this loop to add the annotations\r\n",
        "for p in ax.patches:\r\n",
        "    width = p.get_width()\r\n",
        "    height = p.get_height()\r\n",
        "    x, y = p.get_xy() \r\n",
        "    ax.annotate(f'{height:.3}%', (x + width/2, y + height*0.5), ha='center', fontsize=12, fontweight='light')\r\n",
        "ax.set_xticklabels(['January', 'February', 'March', 'April', 'May', 'June', 'July', 'August', 'September', 'October', 'November', 'December']) \r\n",
        "plt.legend(['Negative','Neutral','Positive'], bbox_to_anchor=(1.015, 0.95), loc='upper left', borderaxespad=0., frameon=False)\r\n",
        "plt.gca().yaxis.set_major_formatter(mtick.PercentFormatter())\r\n",
        "plt.show()"
      ],
      "execution_count": null,
      "outputs": [
        {
          "output_type": "display_data",
          "data": {
            "image/png": "[encoded data removed]",
            "text/plain": [
              "<Figure size 1152x504 with 1 Axes>"
            ]
          },
          "metadata": {
            "tags": [],
            "needs_background": "light"
          }
        }
      ]
    },
    {
      "cell_type": "markdown",
      "metadata": {
        "id": "cPq1iRLTN_yz"
      },
      "source": [
        "**Year 2019**"
      ]
    },
    {
      "cell_type": "code",
      "metadata": {
        "colab": {
          "base_uri": "https://localhost:8080/",
          "height": 1000
        },
        "id": "77dp1_wWv6n4",
        "outputId": "9c51523d-b323-41d7-ce62-585042f1812b"
      },
      "source": [
        "group2019 = year2019.groupby([year2019['month'].dt.month, 'sentiment'])[['sentiment']].count()\n",
        "group2019.columns = ['count']\n",
        "group2019"
      ],
      "execution_count": null,
      "outputs": [
        {
          "output_type": "execute_result",
          "data": {
            "text/html": [
              "<div>\n",
              "<style scoped>\n",
              "    .dataframe tbody tr th:only-of-type {\n",
              "        vertical-align: middle;\n",
              "    }\n",
              "\n",
              "    .dataframe tbody tr th {\n",
              "        vertical-align: top;\n",
              "    }\n",
              "\n",
              "    .dataframe thead th {\n",
              "        text-align: right;\n",
              "    }\n",
              "</style>\n",
              "<table border=\"1\" class=\"dataframe\">\n",
              "  <thead>\n",
              "    <tr style=\"text-align: right;\">\n",
              "      <th></th>\n",
              "      <th></th>\n",
              "      <th>count</th>\n",
              "    </tr>\n",
              "    <tr>\n",
              "      <th>month</th>\n",
              "      <th>sentiment</th>\n",
              "      <th></th>\n",
              "    </tr>\n",
              "  </thead>\n",
              "  <tbody>\n",
              "    <tr>\n",
              "      <th rowspan=\"3\" valign=\"top\">1</th>\n",
              "      <th>Negative</th>\n",
              "      <td>76</td>\n",
              "    </tr>\n",
              "    <tr>\n",
              "      <th>Neutral</th>\n",
              "      <td>71</td>\n",
              "    </tr>\n",
              "    <tr>\n",
              "      <th>Positive</th>\n",
              "      <td>207</td>\n",
              "    </tr>\n",
              "    <tr>\n",
              "      <th rowspan=\"3\" valign=\"top\">2</th>\n",
              "      <th>Negative</th>\n",
              "      <td>53</td>\n",
              "    </tr>\n",
              "    <tr>\n",
              "      <th>Neutral</th>\n",
              "      <td>63</td>\n",
              "    </tr>\n",
              "    <tr>\n",
              "      <th>Positive</th>\n",
              "      <td>116</td>\n",
              "    </tr>\n",
              "    <tr>\n",
              "      <th rowspan=\"3\" valign=\"top\">3</th>\n",
              "      <th>Negative</th>\n",
              "      <td>94</td>\n",
              "    </tr>\n",
              "    <tr>\n",
              "      <th>Neutral</th>\n",
              "      <td>86</td>\n",
              "    </tr>\n",
              "    <tr>\n",
              "      <th>Positive</th>\n",
              "      <td>185</td>\n",
              "    </tr>\n",
              "    <tr>\n",
              "      <th rowspan=\"3\" valign=\"top\">4</th>\n",
              "      <th>Negative</th>\n",
              "      <td>106</td>\n",
              "    </tr>\n",
              "    <tr>\n",
              "      <th>Neutral</th>\n",
              "      <td>98</td>\n",
              "    </tr>\n",
              "    <tr>\n",
              "      <th>Positive</th>\n",
              "      <td>212</td>\n",
              "    </tr>\n",
              "    <tr>\n",
              "      <th rowspan=\"3\" valign=\"top\">5</th>\n",
              "      <th>Negative</th>\n",
              "      <td>146</td>\n",
              "    </tr>\n",
              "    <tr>\n",
              "      <th>Neutral</th>\n",
              "      <td>185</td>\n",
              "    </tr>\n",
              "    <tr>\n",
              "      <th>Positive</th>\n",
              "      <td>333</td>\n",
              "    </tr>\n",
              "    <tr>\n",
              "      <th rowspan=\"3\" valign=\"top\">6</th>\n",
              "      <th>Negative</th>\n",
              "      <td>96</td>\n",
              "    </tr>\n",
              "    <tr>\n",
              "      <th>Neutral</th>\n",
              "      <td>86</td>\n",
              "    </tr>\n",
              "    <tr>\n",
              "      <th>Positive</th>\n",
              "      <td>267</td>\n",
              "    </tr>\n",
              "    <tr>\n",
              "      <th rowspan=\"3\" valign=\"top\">7</th>\n",
              "      <th>Negative</th>\n",
              "      <td>136</td>\n",
              "    </tr>\n",
              "    <tr>\n",
              "      <th>Neutral</th>\n",
              "      <td>136</td>\n",
              "    </tr>\n",
              "    <tr>\n",
              "      <th>Positive</th>\n",
              "      <td>375</td>\n",
              "    </tr>\n",
              "    <tr>\n",
              "      <th rowspan=\"3\" valign=\"top\">8</th>\n",
              "      <th>Negative</th>\n",
              "      <td>150</td>\n",
              "    </tr>\n",
              "    <tr>\n",
              "      <th>Neutral</th>\n",
              "      <td>143</td>\n",
              "    </tr>\n",
              "    <tr>\n",
              "      <th>Positive</th>\n",
              "      <td>364</td>\n",
              "    </tr>\n",
              "    <tr>\n",
              "      <th rowspan=\"3\" valign=\"top\">9</th>\n",
              "      <th>Negative</th>\n",
              "      <td>173</td>\n",
              "    </tr>\n",
              "    <tr>\n",
              "      <th>Neutral</th>\n",
              "      <td>213</td>\n",
              "    </tr>\n",
              "    <tr>\n",
              "      <th>Positive</th>\n",
              "      <td>339</td>\n",
              "    </tr>\n",
              "    <tr>\n",
              "      <th rowspan=\"3\" valign=\"top\">10</th>\n",
              "      <th>Negative</th>\n",
              "      <td>219</td>\n",
              "    </tr>\n",
              "    <tr>\n",
              "      <th>Neutral</th>\n",
              "      <td>304</td>\n",
              "    </tr>\n",
              "    <tr>\n",
              "      <th>Positive</th>\n",
              "      <td>412</td>\n",
              "    </tr>\n",
              "    <tr>\n",
              "      <th rowspan=\"3\" valign=\"top\">11</th>\n",
              "      <th>Negative</th>\n",
              "      <td>179</td>\n",
              "    </tr>\n",
              "    <tr>\n",
              "      <th>Neutral</th>\n",
              "      <td>279</td>\n",
              "    </tr>\n",
              "    <tr>\n",
              "      <th>Positive</th>\n",
              "      <td>329</td>\n",
              "    </tr>\n",
              "    <tr>\n",
              "      <th rowspan=\"3\" valign=\"top\">12</th>\n",
              "      <th>Negative</th>\n",
              "      <td>234</td>\n",
              "    </tr>\n",
              "    <tr>\n",
              "      <th>Neutral</th>\n",
              "      <td>363</td>\n",
              "    </tr>\n",
              "    <tr>\n",
              "      <th>Positive</th>\n",
              "      <td>424</td>\n",
              "    </tr>\n",
              "  </tbody>\n",
              "</table>\n",
              "</div>"
            ],
            "text/plain": [
              "                 count\n",
              "month sentiment       \n",
              "1     Negative      76\n",
              "      Neutral       71\n",
              "      Positive     207\n",
              "2     Negative      53\n",
              "      Neutral       63\n",
              "      Positive     116\n",
              "3     Negative      94\n",
              "      Neutral       86\n",
              "      Positive     185\n",
              "4     Negative     106\n",
              "      Neutral       98\n",
              "      Positive     212\n",
              "5     Negative     146\n",
              "      Neutral      185\n",
              "      Positive     333\n",
              "6     Negative      96\n",
              "      Neutral       86\n",
              "      Positive     267\n",
              "7     Negative     136\n",
              "      Neutral      136\n",
              "      Positive     375\n",
              "8     Negative     150\n",
              "      Neutral      143\n",
              "      Positive     364\n",
              "9     Negative     173\n",
              "      Neutral      213\n",
              "      Positive     339\n",
              "10    Negative     219\n",
              "      Neutral      304\n",
              "      Positive     412\n",
              "11    Negative     179\n",
              "      Neutral      279\n",
              "      Positive     329\n",
              "12    Negative     234\n",
              "      Neutral      363\n",
              "      Positive     424"
            ]
          },
          "metadata": {
            "tags": []
          },
          "execution_count": 51
        }
      ]
    },
    {
      "cell_type": "code",
      "metadata": {
        "colab": {
          "base_uri": "https://localhost:8080/",
          "height": 494
        },
        "id": "vpFDO3m97V-C",
        "outputId": "6a0b9b63-c3d3-48cd-9f48-0f559bf8b226"
      },
      "source": [
        "#Stacked column chart\r\n",
        "fig, ax = plt.subplots(figsize=(16,7))\r\n",
        "group2019.groupby(level=0).apply(lambda x: 100 * x / x.sum()).unstack().plot(kind='bar',stacked=True, color=['orangered','darkgray','limegreen'], width=0.6, ax=ax)\r\n",
        "plt.title('Summary of tweets in 2019')\r\n",
        "ax.set_xlabel('Month')\r\n",
        "ax.set_ylabel('Amount of tweets')\r\n",
        "plt.xticks(rotation=45)\r\n",
        "for s in ['top', 'right']:\r\n",
        "    ax.spines[s].set_visible(False)\r\n",
        "#Add this loop to add the annotations\r\n",
        "for p in ax.patches:\r\n",
        "    width = p.get_width()\r\n",
        "    height = p.get_height()\r\n",
        "    x, y = p.get_xy() \r\n",
        "    ax.annotate(f'{height:.3}%', (x + width/2, y + height*0.5), ha='center', fontsize=12, fontweight='light')\r\n",
        "ax.set_xticklabels(['January', 'February', 'March', 'April', 'May', 'June', 'July', 'August', 'September', 'October', 'November', 'December']) \r\n",
        "plt.legend(['Negative','Neutral','Positive'], bbox_to_anchor=(1.015, 0.95), loc='upper left', borderaxespad=0., frameon=False)\r\n",
        "plt.gca().yaxis.set_major_formatter(mtick.PercentFormatter())\r\n",
        "plt.show()"
      ],
      "execution_count": null,
      "outputs": [
        {
          "output_type": "display_data",
          "data": {
            "image/png": "[encoded data removed]",
            "text/plain": [
              "<Figure size 1152x504 with 1 Axes>"
            ]
          },
          "metadata": {
            "tags": [],
            "needs_background": "light"
          }
        }
      ]
    },
    {
      "cell_type": "markdown",
      "metadata": {
        "id": "7IkD96K5PMex"
      },
      "source": [
        "**Year 2020**"
      ]
    },
    {
      "cell_type": "code",
      "metadata": {
        "colab": {
          "base_uri": "https://localhost:8080/",
          "height": 1000
        },
        "id": "eLDak5YEwDY4",
        "outputId": "e26ac105-5880-4763-b8c4-f7c22623f373"
      },
      "source": [
        "group2020 = year2020.groupby([year2020['month'].dt.month, 'sentiment'])[['sentiment']].count()\n",
        "group2020.columns = ['count']\n",
        "group2020"
      ],
      "execution_count": null,
      "outputs": [
        {
          "output_type": "execute_result",
          "data": {
            "text/html": [
              "<div>\n",
              "<style scoped>\n",
              "    .dataframe tbody tr th:only-of-type {\n",
              "        vertical-align: middle;\n",
              "    }\n",
              "\n",
              "    .dataframe tbody tr th {\n",
              "        vertical-align: top;\n",
              "    }\n",
              "\n",
              "    .dataframe thead th {\n",
              "        text-align: right;\n",
              "    }\n",
              "</style>\n",
              "<table border=\"1\" class=\"dataframe\">\n",
              "  <thead>\n",
              "    <tr style=\"text-align: right;\">\n",
              "      <th></th>\n",
              "      <th></th>\n",
              "      <th>count</th>\n",
              "    </tr>\n",
              "    <tr>\n",
              "      <th>month</th>\n",
              "      <th>sentiment</th>\n",
              "      <th></th>\n",
              "    </tr>\n",
              "  </thead>\n",
              "  <tbody>\n",
              "    <tr>\n",
              "      <th rowspan=\"3\" valign=\"top\">1</th>\n",
              "      <th>Negative</th>\n",
              "      <td>182</td>\n",
              "    </tr>\n",
              "    <tr>\n",
              "      <th>Neutral</th>\n",
              "      <td>292</td>\n",
              "    </tr>\n",
              "    <tr>\n",
              "      <th>Positive</th>\n",
              "      <td>402</td>\n",
              "    </tr>\n",
              "    <tr>\n",
              "      <th rowspan=\"3\" valign=\"top\">2</th>\n",
              "      <th>Negative</th>\n",
              "      <td>190</td>\n",
              "    </tr>\n",
              "    <tr>\n",
              "      <th>Neutral</th>\n",
              "      <td>237</td>\n",
              "    </tr>\n",
              "    <tr>\n",
              "      <th>Positive</th>\n",
              "      <td>383</td>\n",
              "    </tr>\n",
              "    <tr>\n",
              "      <th rowspan=\"3\" valign=\"top\">3</th>\n",
              "      <th>Negative</th>\n",
              "      <td>165</td>\n",
              "    </tr>\n",
              "    <tr>\n",
              "      <th>Neutral</th>\n",
              "      <td>259</td>\n",
              "    </tr>\n",
              "    <tr>\n",
              "      <th>Positive</th>\n",
              "      <td>473</td>\n",
              "    </tr>\n",
              "    <tr>\n",
              "      <th rowspan=\"3\" valign=\"top\">4</th>\n",
              "      <th>Negative</th>\n",
              "      <td>163</td>\n",
              "    </tr>\n",
              "    <tr>\n",
              "      <th>Neutral</th>\n",
              "      <td>231</td>\n",
              "    </tr>\n",
              "    <tr>\n",
              "      <th>Positive</th>\n",
              "      <td>364</td>\n",
              "    </tr>\n",
              "    <tr>\n",
              "      <th rowspan=\"3\" valign=\"top\">5</th>\n",
              "      <th>Negative</th>\n",
              "      <td>213</td>\n",
              "    </tr>\n",
              "    <tr>\n",
              "      <th>Neutral</th>\n",
              "      <td>330</td>\n",
              "    </tr>\n",
              "    <tr>\n",
              "      <th>Positive</th>\n",
              "      <td>468</td>\n",
              "    </tr>\n",
              "    <tr>\n",
              "      <th rowspan=\"3\" valign=\"top\">6</th>\n",
              "      <th>Negative</th>\n",
              "      <td>196</td>\n",
              "    </tr>\n",
              "    <tr>\n",
              "      <th>Neutral</th>\n",
              "      <td>317</td>\n",
              "    </tr>\n",
              "    <tr>\n",
              "      <th>Positive</th>\n",
              "      <td>490</td>\n",
              "    </tr>\n",
              "    <tr>\n",
              "      <th rowspan=\"3\" valign=\"top\">7</th>\n",
              "      <th>Negative</th>\n",
              "      <td>174</td>\n",
              "    </tr>\n",
              "    <tr>\n",
              "      <th>Neutral</th>\n",
              "      <td>244</td>\n",
              "    </tr>\n",
              "    <tr>\n",
              "      <th>Positive</th>\n",
              "      <td>380</td>\n",
              "    </tr>\n",
              "    <tr>\n",
              "      <th rowspan=\"3\" valign=\"top\">8</th>\n",
              "      <th>Negative</th>\n",
              "      <td>183</td>\n",
              "    </tr>\n",
              "    <tr>\n",
              "      <th>Neutral</th>\n",
              "      <td>299</td>\n",
              "    </tr>\n",
              "    <tr>\n",
              "      <th>Positive</th>\n",
              "      <td>425</td>\n",
              "    </tr>\n",
              "    <tr>\n",
              "      <th rowspan=\"3\" valign=\"top\">9</th>\n",
              "      <th>Negative</th>\n",
              "      <td>218</td>\n",
              "    </tr>\n",
              "    <tr>\n",
              "      <th>Neutral</th>\n",
              "      <td>404</td>\n",
              "    </tr>\n",
              "    <tr>\n",
              "      <th>Positive</th>\n",
              "      <td>549</td>\n",
              "    </tr>\n",
              "    <tr>\n",
              "      <th rowspan=\"3\" valign=\"top\">10</th>\n",
              "      <th>Negative</th>\n",
              "      <td>242</td>\n",
              "    </tr>\n",
              "    <tr>\n",
              "      <th>Neutral</th>\n",
              "      <td>408</td>\n",
              "    </tr>\n",
              "    <tr>\n",
              "      <th>Positive</th>\n",
              "      <td>546</td>\n",
              "    </tr>\n",
              "    <tr>\n",
              "      <th rowspan=\"3\" valign=\"top\">11</th>\n",
              "      <th>Negative</th>\n",
              "      <td>153</td>\n",
              "    </tr>\n",
              "    <tr>\n",
              "      <th>Neutral</th>\n",
              "      <td>253</td>\n",
              "    </tr>\n",
              "    <tr>\n",
              "      <th>Positive</th>\n",
              "      <td>345</td>\n",
              "    </tr>\n",
              "    <tr>\n",
              "      <th rowspan=\"3\" valign=\"top\">12</th>\n",
              "      <th>Negative</th>\n",
              "      <td>111</td>\n",
              "    </tr>\n",
              "    <tr>\n",
              "      <th>Neutral</th>\n",
              "      <td>188</td>\n",
              "    </tr>\n",
              "    <tr>\n",
              "      <th>Positive</th>\n",
              "      <td>228</td>\n",
              "    </tr>\n",
              "  </tbody>\n",
              "</table>\n",
              "</div>"
            ],
            "text/plain": [
              "                 count\n",
              "month sentiment       \n",
              "1     Negative     182\n",
              "      Neutral      292\n",
              "      Positive     402\n",
              "2     Negative     190\n",
              "      Neutral      237\n",
              "      Positive     383\n",
              "3     Negative     165\n",
              "      Neutral      259\n",
              "      Positive     473\n",
              "4     Negative     163\n",
              "      Neutral      231\n",
              "      Positive     364\n",
              "5     Negative     213\n",
              "      Neutral      330\n",
              "      Positive     468\n",
              "6     Negative     196\n",
              "      Neutral      317\n",
              "      Positive     490\n",
              "7     Negative     174\n",
              "      Neutral      244\n",
              "      Positive     380\n",
              "8     Negative     183\n",
              "      Neutral      299\n",
              "      Positive     425\n",
              "9     Negative     218\n",
              "      Neutral      404\n",
              "      Positive     549\n",
              "10    Negative     242\n",
              "      Neutral      408\n",
              "      Positive     546\n",
              "11    Negative     153\n",
              "      Neutral      253\n",
              "      Positive     345\n",
              "12    Negative     111\n",
              "      Neutral      188\n",
              "      Positive     228"
            ]
          },
          "metadata": {
            "tags": []
          },
          "execution_count": 53
        }
      ]
    },
    {
      "cell_type": "code",
      "metadata": {
        "colab": {
          "base_uri": "https://localhost:8080/",
          "height": 494
        },
        "id": "S5VmPiyQ7e0j",
        "outputId": "fd20e8ad-7c42-4abf-fc0e-158a31a7608d"
      },
      "source": [
        "#Stacked column chart\r\n",
        "fig, ax = plt.subplots(figsize=(16,7))\r\n",
        "group2020.groupby(level=0).apply(lambda x: 100 * x / x.sum()).unstack().plot(kind='bar',stacked=True, color=['orangered','darkgray','limegreen'], width=0.6, ax=ax)\r\n",
        "plt.title('Summary of tweets in 2020')\r\n",
        "ax.set_xlabel('Month')\r\n",
        "ax.set_ylabel('Amount of tweets')\r\n",
        "plt.xticks(rotation=45)\r\n",
        "for s in ['top', 'right']:\r\n",
        "    ax.spines[s].set_visible(False)\r\n",
        "#Add this loop to add the annotations\r\n",
        "for p in ax.patches:\r\n",
        "    width = p.get_width()\r\n",
        "    height = p.get_height()\r\n",
        "    x, y = p.get_xy() \r\n",
        "    ax.annotate(f'{height:.3}%', (x + width/2, y + height*0.5), ha='center', fontsize=12, fontweight='light')\r\n",
        "ax.set_xticklabels(['January', 'February', 'March', 'April', 'May', 'June', 'July', 'August', 'September', 'October', 'November', 'December']) \r\n",
        "plt.legend(['Negative','Neutral','Positive'], bbox_to_anchor=(1.015, 0.95), loc='upper left', borderaxespad=0., frameon=False)\r\n",
        "plt.gca().yaxis.set_major_formatter(mtick.PercentFormatter())\r\n",
        "plt.show()"
      ],
      "execution_count": null,
      "outputs": [
        {
          "output_type": "display_data",
          "data": {
            "image/png": "[encoded data removed]",
            "text/plain": [
              "<Figure size 1152x504 with 1 Axes>"
            ]
          },
          "metadata": {
            "tags": [],
            "needs_background": "light"
          }
        }
      ]
    },
    {
      "cell_type": "markdown",
      "metadata": {
        "id": "AhXv_BLmrboq"
      },
      "source": [
        "Thematic modeling with LDA"
      ]
    },
    {
      "cell_type": "code",
      "metadata": {
        "id": "8Om7ynFLr5ZD",
        "colab": {
          "base_uri": "https://localhost:8080/"
        },
        "outputId": "3c819dbf-2768-4a72-baa8-5a42d52dfb18"
      },
      "source": [
        "vectorizer = CountVectorizer(\r\n",
        "analyzer='word',       \r\n",
        "min_df=3, #the minimum required word occurrences\r\n",
        "stop_words='english', #remove stop words\r\n",
        "lowercase=True, #convert all words to lowercase\r\n",
        "token_pattern='[a-zA-Z0-9]{3,}', #number of characters > 3\r\n",
        "max_features=5000, #maximum number of unique words\r\n",
        "                            )\r\n",
        "data_matrix = vectorizer.fit_transform(tweets['text'])\r\n",
        "data_matrix"
      ],
      "execution_count": null,
      "outputs": [
        {
          "output_type": "execute_result",
          "data": {
            "text/plain": [
              "<23809x5000 sparse matrix of type '<class 'numpy.int64'>'\n",
              "\twith 251052 stored elements in Compressed Sparse Row format>"
            ]
          },
          "metadata": {
            "tags": []
          },
          "execution_count": 55
        }
      ]
    },
    {
      "cell_type": "code",
      "metadata": {
        "id": "T4MoYCJLKqWf"
      },
      "source": [
        "lda_model = LatentDirichletAllocation(\r\n",
        "n_components=10, # Number of topics\r\n",
        "learning_method='online',\r\n",
        "random_state=20,       \r\n",
        "n_jobs = -1  # Use all available CPUs\r\n",
        "                                     )\r\n",
        "lda_output = lda_model.fit_transform(data_matrix)"
      ],
      "execution_count": null,
      "outputs": []
    },
    {
      "cell_type": "code",
      "metadata": {
        "colab": {
          "base_uri": "https://localhost:8080/",
          "height": 861
        },
        "id": "07kRnc-ULrq5",
        "outputId": "5fdfa8b0-19dd-4b39-c197-d3fddff7da27"
      },
      "source": [
        "pyLDAvis.enable_notebook()\r\n",
        "pyLDAvis.sklearn.prepare(lda_model, data_matrix, vectorizer, mds='tsne')"
      ],
      "execution_count": null,
      "outputs": [
        {
          "output_type": "execute_result",
          "data": {
            "text/html": [
              "\n",
              "<link rel=\"stylesheet\" type=\"text/css\" href=\"https://cdn.rawgit.com/bmabey/pyLDAvis/files/ldavis.v1.0.0.css\">\n",
              "\n",
              "\n",
              "<div id=\"ldavis_el62139673736265184197118185\"></div>\n",
              "<script type=\"text/javascript\">\n",
              "\n",
              "var ldavis_el62139673736265184197118185_data = {\"mdsDat\": {\"x\": [32.42095184326172, 0.648955225944519, 71.01968383789062, 3.7859814167022705, -42.666500091552734, -3.6216893196105957, -3.632401704788208, -36.58440017700195, 44.391380310058594, 40.235809326171875], \"y\": [8.115229606628418, 71.70709991455078, 9.971006393432617, 33.18513488769531, -9.22206974029541, -43.52651596069336, -4.171707630157471, 35.804412841796875, 50.61538314819336, -31.591665267944336], \"topics\": [1, 2, 3, 4, 5, 6, 7, 8, 9, 10], \"cluster\": [1, 1, 1, 1, 1, 1, 1, 1, 1, 1], \"Freq\": [13.5304667837333, 13.09922425291951, 10.523039586228196, 9.894516589122093, 9.722341159155508, 9.237644339977633, 9.060177003234449, 9.056134219859574, 8.764088597952872, 7.112367467816869]}, \"tinfo\": {\"Term\": [\"great\", \"trump\", \"president\", \"new\", \"fake\", \"news\", \"democrats\", \"amp\", \"thank\", \"biden\", \"border\", \"want\", \"media\", \"house\", \"joe\", \"states\", \"big\", \"united\", \"good\", \"america\", \"dems\", \"state\", \"military\", \"republican\", \"china\", \"american\", \"did\", \"strong\", \"know\", \"economy\", \"state\", \"work\", \"honor\", \"coming\", \"governor\", \"come\", \"john\", \"book\", \"florida\", \"called\", \"making\", \"happy\", \"rally\", \"small\", \"future\", \"secretary\", \"really\", \"highly\", \"used\", \"men\", \"winning\", \"attack\", \"victory\", \"lowest\", \"leaving\", \"agree\", \"crowd\", \"stronger\", \"respected\", \"businesses\", \"great\", \"america\", \"big\", \"make\", \"job\", \"doing\", \"better\", \"fantastic\", \"people\", \"win\", \"numbers\", \"thank\", \"help\", \"way\", \"today\", \"administration\", \"day\", \"amp\", \"like\", \"just\", \"country\", \"vote\", \"going\", \"want\", \"did\", \"usa\", \"pelosi\", \"say\", \"radical\", \"totally\", \"stop\", \"important\", \"political\", \"nancy\", \"presidential\", \"protect\", \"fight\", \"continue\", \"borders\", \"jordan\", \"police\", \"terrible\", \"drug\", \"away\", \"bring\", \"public\", \"historic\", \"spoke\", \"rigged\", \"happened\", \"weak\", \"allow\", \"tell\", \"happen\", \"left\", \"democrats\", \"republicans\", \"let\", \"don\", \"vote\", \"election\", \"country\", \"trying\", \"open\", \"just\", \"history\", \"american\", \"crime\", \"night\", \"way\", \"win\", \"big\", \"said\", \"fake\", \"media\", \"states\", \"united\", \"world\", \"right\", \"court\", \"countries\", \"hoax\", \"supreme\", \"took\", \"investigation\", \"russian\", \"use\", \"cnn\", \"based\", \"asked\", \"join\", \"talking\", \"stories\", \"israel\", \"action\", \"story\", \"intelligence\", \"reporting\", \"department\", \"deals\", \"matter\", \"fired\", \"enemy\", \"trade\", \"news\", \"china\", \"deal\", \"justice\", \"just\", \"place\", \"time\", \"bad\", \"people\", \"like\", \"doing\", \"country\", \"biden\", \"joe\", \"know\", \"democrat\", \"senate\", \"fact\", \"nation\", \"true\", \"texas\", \"run\", \"lost\", \"sleepy\", \"phony\", \"major\", \"biggest\", \"mike\", \"ratings\", \"reason\", \"disaster\", \"worse\", \"scam\", \"interview\", \"longer\", \"point\", \"plan\", \"able\", \"choice\", \"politics\", \"decades\", \"legal\", \"impeachment\", \"won\", \"amp\", \"said\", \"good\", \"democrats\", \"corrupt\", \"don\", \"president\", \"history\", \"going\", \"border\", \"military\", \"strong\", \"russia\", \"total\", \"party\", \"congratulations\", \"endorsement\", \"tonight\", \"complete\", \"incredible\", \"second\", \"amendment\", \"vets\", \"congressman\", \"family\", \"farmers\", \"proud\", \"read\", \"enforcement\", \"home\", \"ukraine\", \"cuts\", \"loves\", \"mexico\", \"healthcare\", \"guy\", \"welcome\", \"lies\", \"shows\", \"maga\", \"wall\", \"law\", \"tax\", \"congress\", \"amp\", \"great\", \"crime\", \"jobs\", \"dems\", \"fbi\", \"collusion\", \"schiff\", \"dollars\", \"hillary\", \"clinton\", \"korea\", \"comey\", \"crooked\", \"act\", \"adam\", \"approval\", \"paid\", \"fighting\", \"lives\", \"minister\", \"prime\", \"told\", \"safe\", \"close\", \"start\", \"tough\", \"millions\", \"zero\", \"james\", \"possible\", \"south\", \"quickly\", \"angry\", \"year\", \"end\", \"time\", \"hard\", \"got\", \"years\", \"president\", \"people\", \"just\", \"working\", \"new\", \"economy\", \"campaign\", \"things\", \"york\", \"washington\", \"times\", \"doesn\", \"office\", \"iran\", \"says\", \"market\", \"crazy\", \"ready\", \"california\", \"morning\", \"breaking\", \"stock\", \"process\", \"covid\", \"rate\", \"amazing\", \"worst\", \"happening\", \"leader\", \"drugs\", \"nations\", \"japan\", \"released\", \"set\", \"best\", \"money\", \"low\", \"coronavirus\", \"seen\", \"amp\", \"going\", \"years\", \"people\", \"make\", \"look\", \"witch\", \"hunt\", \"north\", \"forward\", \"high\", \"wonderful\", \"tariffs\", \"general\", \"carolina\", \"whistleblower\", \"unemployment\", \"number\", \"god\", \"thanks\", \"truly\", \"large\", \"laws\", \"saying\", \"michael\", \"city\", \"friend\", \"stay\", \"mark\", \"chuck\", \"unfair\", \"freedom\", \"attorney\", \"hear\", \"flynn\", \"americans\", \"thank\", \"obama\", \"american\", \"love\", \"looking\", \"workers\", \"million\", \"people\", \"amp\", \"case\", \"time\", \"illegal\", \"country\", \"mueller\", \"republican\", \"report\", \"trump\", \"federal\", \"safety\", \"meeting\", \"government\", \"donald\", \"life\", \"having\", \"yesterday\", \"economic\", \"man\", \"suburban\", \"poll\", \"voting\", \"information\", \"leadership\", \"obstruction\", \"decision\", \"ridiculous\", \"pro\", \"elected\", \"melania\", \"black\", \"dishonest\", \"building\", \"dont\", \"giving\", \"voter\", \"president\", \"national\", \"watch\", \"jobs\", \"security\", \"women\", \"mueller\", \"years\", \"american\", \"today\", \"america\", \"white\", \"including\", \"soon\", \"wrong\", \"live\", \"believe\", \"ago\", \"press\", \"evidence\", \"conference\", \"given\", \"enjoy\", \"months\", \"pence\", \"foreign\", \"post\", \"went\", \"voters\", \"committee\", \"kim\", \"impeach\", \"interviewed\", \"try\", \"continues\", \"forced\", \"needs\", \"iowa\", \"heroes\", \"points\", \"correct\", \"house\", \"good\", \"voted\", \"president\", \"today\", \"years\", \"day\", \"impeachment\", \"team\", \"thing\", \"election\", \"news\", \"southern\", \"long\"], \"Freq\": [3703.0, 2069.0, 2774.0, 1306.0, 1232.0, 1492.0, 1765.0, 3409.0, 1426.0, 1029.0, 964.0, 1100.0, 917.0, 845.0, 839.0, 833.0, 1265.0, 758.0, 851.0, 1075.0, 630.0, 751.0, 605.0, 578.0, 777.0, 1043.0, 615.0, 534.0, 538.0, 511.0, 750.14978037149, 481.3036802731134, 355.03010798343655, 347.25758653251785, 338.6030090138305, 328.19136607104303, 282.4175794463564, 272.41543331236727, 275.9445737625656, 261.9346348892561, 258.8044770808962, 247.03623728218318, 190.0161996822201, 170.48380527390847, 168.8743055139928, 160.90029567889906, 446.56031820132443, 156.12561909393773, 155.3911305200341, 152.77703135778776, 143.4887498717884, 130.39434001325674, 125.85216567297033, 124.12278046639368, 121.82145191051114, 118.40298898517287, 115.4042458942898, 114.3105618488735, 112.49015811404345, 107.09419970904987, 3077.2957644057146, 879.5191817555291, 979.3792440552903, 582.9822917719578, 548.7367149684167, 505.1373714091233, 297.2752936731867, 149.63552077950285, 807.2738086316701, 351.51781097081385, 213.83202549703176, 532.2473972706431, 269.56243908089175, 324.43829480220637, 416.4357594173304, 248.85604240512336, 305.63165305751414, 591.5058862942433, 305.89115282709116, 389.36445851258986, 359.2655759704223, 310.61595337142506, 294.64746700809906, 1099.7154610694927, 614.6069206476104, 402.758336462571, 360.0513921563209, 326.7527457898932, 321.31617360739546, 319.7297481012082, 318.66697878938635, 299.11227414325197, 295.2342466250236, 299.4444061097588, 249.540631273394, 239.9523775450993, 234.7154011191037, 230.71639349042198, 224.951904447663, 196.78044982243262, 194.72565487591552, 187.98906704935305, 166.2937710428312, 161.91860926164145, 160.43372018728112, 151.06763765854683, 147.23050548193802, 146.62317905801197, 141.93157206246812, 136.44318295440414, 130.93876600283065, 124.16111302401777, 122.56098018744352, 214.92586318340125, 433.54201427892394, 1392.3188244490398, 426.37935254164637, 343.68703007640676, 507.264794007981, 540.1786639858207, 470.03402587095974, 547.4743710440247, 209.46687919899918, 203.2548644587045, 475.5252668774094, 290.29336235184394, 336.30172224214584, 265.3563693130934, 230.74389268884593, 256.70370247868766, 248.9939567779475, 254.63662215941198, 231.79882971054332, 1231.8505858118522, 916.3518438372834, 832.5000143248709, 757.7679946115234, 514.2512494088346, 434.8543651088345, 348.29802950656983, 298.41591393013624, 279.8018814386787, 193.3001802418662, 187.1145985056462, 185.0096415346346, 179.53744084451074, 173.30542051802993, 172.2003148876497, 155.52083650264137, 151.75330050140704, 144.59855184372503, 136.23236860788535, 127.50657866200703, 126.30881287855087, 123.26116557924163, 302.4876328307304, 117.81570225508219, 117.78414819107006, 119.1713657510263, 116.43934553153414, 114.6296150915103, 114.1836515419377, 105.61251697668254, 448.71153653855225, 1304.6497819960161, 641.7139390234295, 387.28516349291647, 200.30172010329474, 460.6514514043022, 162.26933557721054, 267.3396367616426, 213.76414874634136, 289.7011289362384, 202.03298137581336, 191.3938212891805, 158.99588403182855, 1028.4881044619187, 838.3761794761274, 537.2159625081492, 527.6728435366983, 494.2012666328674, 330.3055300318651, 295.8062630664868, 283.24910630640545, 224.99068896629473, 216.89726652593708, 208.62373270374582, 194.1545020900111, 186.1754512927547, 179.798997464089, 178.68092917834852, 167.83579726956498, 166.20037997871495, 149.78624142234162, 149.08844775959412, 148.12349675312822, 141.6163725626697, 132.87243044573685, 132.5672989247019, 125.11577491554647, 122.85197909991197, 113.90497840835745, 108.31383692688311, 106.1051669009577, 105.57025391749451, 102.5206093531585, 426.41634674393816, 267.4063402955021, 1269.5900890820287, 353.39280761987305, 354.9818042122004, 372.57855890373685, 177.114068412736, 203.52124706852445, 253.69552254181232, 181.21212043265788, 160.80049655503126, 963.2479712669201, 604.4137407558479, 533.2157223762399, 518.432177563013, 514.5217304781962, 458.47508828906587, 378.948742420261, 349.7991388889824, 332.02367760927683, 320.28775612932026, 288.3384513408959, 266.1431765291968, 263.5375132049148, 247.2383492386713, 223.9239702518973, 220.7777508307168, 219.82659554389457, 210.32368581228508, 202.6871954099541, 197.98071220476075, 197.0946791045651, 190.30681246499017, 182.70474720589576, 181.05928225338263, 323.1913526865936, 160.5557835300925, 144.35005164706516, 133.10207529405204, 118.76321401389484, 118.75207474502325, 410.3351199235284, 461.8093665039257, 417.0999878872623, 303.8003347655881, 388.9015249796946, 630.4552748821148, 623.6817485727893, 271.24880460271044, 205.17291741558242, 629.4178152165088, 487.55655344007806, 430.4520847497775, 380.9714125071056, 328.06602152627016, 319.9667187749154, 283.41459929229103, 265.93593338561635, 247.45558301822754, 240.17451286389542, 228.59864256466284, 205.6419918482546, 197.6351896203385, 176.51720143512284, 175.5640998964519, 173.4363687330688, 172.78392481503474, 171.25136592456462, 169.769701417512, 168.50069131925827, 167.23894277993207, 166.8886138641809, 163.52672250837017, 158.80651472732262, 154.80107183320442, 152.4780766973183, 152.15075549704088, 150.94381047758176, 135.96386869008353, 129.922537064973, 356.86856982036676, 225.03757734403962, 415.52112967668717, 274.1737443162179, 244.6555918769231, 223.4521550358911, 271.49097294024625, 245.98765098246633, 231.94955990764385, 170.19379309099818, 1305.8111750882024, 510.9908924911561, 431.663208587329, 343.0427862171778, 315.6414705747935, 294.3311489839958, 258.1434470640147, 252.12503434169057, 245.46010785046707, 220.00097709274735, 213.38507970765906, 208.6072032337411, 208.22251435795394, 175.37294614291005, 174.43106215373908, 174.1812130379189, 171.59794612816626, 168.06833548595523, 167.91083345151046, 162.01016942197828, 150.79936459040928, 135.16274978399917, 129.52133014584106, 126.6969537638055, 125.14201113710322, 122.11050425354215, 120.09517300130668, 119.93026332632817, 111.53602913066946, 106.49665708861457, 299.30580956509914, 233.53267238470576, 165.2007471731971, 177.26963769263622, 142.92759931599306, 381.67085060014193, 215.66061176266416, 225.84553440203413, 180.486791658287, 154.34806060344442, 437.6423550688397, 427.424511140494, 416.1190371292531, 402.78024877253534, 287.69391589616555, 283.95893036290346, 256.9239185566693, 250.25015809778023, 248.8186850317222, 220.49360348502125, 179.014467136318, 176.25742489245255, 173.52597219555048, 169.56544687114524, 161.1059231697255, 153.59032090440928, 149.08383474009815, 143.87246377808478, 142.00952411836568, 132.26909742046178, 131.54615143253767, 131.4819601783812, 122.84135424231084, 122.21295688540123, 119.89370043486099, 115.18561716923953, 108.75813033714468, 108.53134217198253, 105.30300391485773, 99.93550799325985, 326.926916154385, 892.9737909633371, 324.1698267316344, 507.40482359587384, 198.77696949699876, 200.52672410654702, 163.70416681432067, 169.54762418643975, 437.52601230134496, 535.7029414461001, 167.03944074985026, 236.84254219122442, 175.31658340872727, 213.7350137713891, 172.22069726270794, 577.2363391191275, 402.2711096127388, 2064.5470029615126, 327.998990010248, 326.3565748451404, 297.68198857842486, 266.725447816326, 226.77453402197415, 222.56201431903148, 212.41018275924554, 209.1443726984886, 206.2987066462229, 202.79428208145907, 196.70449545656106, 193.88078770766666, 173.7343377029573, 169.77601727191703, 159.2651345452301, 155.08232045653, 135.03244902984093, 132.17526405781456, 127.22693208590545, 117.28905205579706, 109.66884743559103, 105.78009440829335, 100.675755535437, 95.20436642936271, 92.30448917497117, 87.0662293078328, 84.93039164842116, 1586.4330394959939, 304.1246786758139, 236.287406634042, 339.5199011810654, 349.2359726109165, 254.40469643778405, 218.17738336699645, 217.01987200473746, 199.61322896209893, 172.94254078819344, 155.30568601791398, 412.37444915346134, 306.5366417125404, 291.61466618141736, 289.68799909695997, 257.682853044412, 231.26862387011153, 191.422284060147, 189.9161627843954, 179.04977044143953, 163.73121361787372, 160.66203532681126, 150.39181660094047, 137.36495647280165, 136.5735004985128, 136.24063114023306, 136.02695715530427, 135.87227148368868, 134.04877057066287, 129.1683920277999, 122.98514498714697, 121.80679962659683, 119.05469924891982, 115.48241757520283, 109.76909102820478, 99.3730168024558, 98.46359004885913, 91.67380937074883, 88.01778543683598, 87.00421984296811, 86.00118862110563, 718.7618710998709, 495.92746446983216, 105.8436297565993, 661.3410620280115, 320.2219065849391, 270.78595296772784, 218.5868856635712, 214.50655940574, 129.82349769921603, 139.48610151299755, 171.79654792387547, 186.91571147085304, 131.96784065975945, 131.46531198311655], \"Total\": [3703.0, 2069.0, 2774.0, 1306.0, 1232.0, 1492.0, 1765.0, 3409.0, 1426.0, 1029.0, 964.0, 1100.0, 917.0, 845.0, 839.0, 833.0, 1265.0, 758.0, 851.0, 1075.0, 630.0, 751.0, 605.0, 578.0, 777.0, 1043.0, 615.0, 534.0, 538.0, 511.0, 751.0156230593296, 482.1695509260152, 355.8959062191185, 348.12345623583474, 339.46881819280827, 329.0572944395663, 283.2834241402464, 273.2820524152863, 276.8289416889576, 262.80058914864986, 259.67033850227654, 247.90201041906838, 190.88197713052193, 171.34962012503996, 169.74805507972985, 161.76611381076302, 449.0004496292716, 156.99150752614042, 156.25713561056534, 153.64282426286346, 144.35456450973302, 131.26021574614404, 126.71834676316315, 124.98874568471378, 122.68732459444274, 119.26887182719521, 116.27002431815787, 115.17638915606268, 113.35597594178986, 107.95999637871287, 3703.2543092271903, 1075.5253703519352, 1265.4205073445064, 738.0987944716707, 714.9577904248346, 736.5765849151493, 406.33873459548164, 160.72870049715408, 2094.0701921523305, 609.6555641927907, 282.2923894092782, 1426.0440185734099, 429.68851680231995, 609.5246743628347, 1113.5987155540465, 394.5362756762687, 630.7603469458072, 3409.4044324594634, 799.9697273691576, 1684.123107345651, 1401.0830373698304, 851.5646808689738, 756.2911063540759, 1100.5801186794215, 615.4715786435248, 403.62303916083675, 360.9165258121768, 327.61741307194677, 322.18099300816704, 320.5944576541389, 319.5316211670201, 299.9769464043964, 296.0988966086454, 300.4808223318979, 250.4052885442354, 240.81702351661858, 235.58007494657653, 231.5810622891294, 225.816545818979, 197.64506679577443, 195.59020871601024, 188.85372023895292, 167.15834838116461, 162.7832227266026, 161.29834815513513, 151.9322923187467, 148.09518318282838, 147.4878890649967, 142.7961936253864, 137.30786354197664, 131.8033657213392, 125.02603774860388, 123.42566117216286, 218.66734593660178, 475.0889568406017, 1765.6646177507928, 488.756192123406, 385.41791450244983, 711.5532951890322, 851.5646808689738, 813.2052586253577, 1401.0830373698304, 258.98815390791725, 255.40973056999607, 1684.123107345651, 582.567790149809, 1043.9960659291787, 537.3733760765715, 344.28267904323025, 609.5246743628347, 609.6555641927907, 1265.4205073445064, 585.958900842201, 1232.7155689725428, 917.2168624141252, 833.3650815327268, 758.6329980488744, 515.116325567917, 435.7195332099116, 349.1630252623634, 299.2809649029029, 280.6669738381523, 194.16515104468473, 187.9796873633278, 185.87472619872344, 180.40252086208508, 174.17047864751493, 173.0653009893598, 156.38595036269066, 152.61838739869253, 145.46366122593656, 137.0974401325438, 128.37161844914831, 127.17387572778804, 124.12626578441206, 304.6986769730502, 118.68078076469557, 118.64914855396506, 120.04741386597901, 117.30436453554425, 115.49468539872612, 115.04875269786238, 106.47750485913443, 480.7744274928532, 1492.3317979291878, 777.2554965424812, 528.9763915040762, 292.5540646752351, 1684.123107345651, 231.2967630755956, 998.666277764804, 575.719086405601, 2094.0701921523305, 799.9697273691576, 736.5765849151493, 1401.0830373698304, 1029.3511327179378, 839.2390718211859, 538.078969096205, 528.5358483988833, 495.06424624258597, 331.16856205811166, 296.66932460047167, 284.11210178015364, 225.8537217784976, 217.76029897155743, 209.48675517270877, 195.017394644541, 187.03854248020278, 180.66203769603266, 179.54393446016633, 168.69874388023848, 167.0633483681921, 150.6492627616278, 149.95146219561818, 148.98650107568042, 142.4793629815425, 133.7354178163154, 133.43034754285028, 125.97880839109732, 123.71497638085066, 114.7679935810418, 109.17683045850124, 106.96817366718147, 106.43332626445488, 103.38363156329746, 649.4251672482025, 361.3324370252973, 3409.4044324594634, 585.958900842201, 851.673632793855, 1765.6646177507928, 321.6512432634607, 711.5532951890322, 2774.9614926180448, 582.567790149809, 756.2911063540759, 964.1111887844886, 605.2769359909641, 534.0789237096402, 519.300987437018, 515.3849351140357, 459.33841998166963, 379.81194980715514, 350.6622508697499, 332.8869050881348, 321.1508994598416, 289.20299856521626, 267.00634786766204, 264.4006487072269, 248.10146181555834, 224.78713223465954, 221.6409935129423, 220.68986517628898, 211.18690654873149, 203.55052876463324, 198.8439359136719, 197.9579803310137, 191.17014596036913, 183.5679278349535, 181.92243878030771, 324.81991685270634, 161.41901000246654, 145.21388489507513, 133.96531867143793, 119.62654057872626, 119.61538619780148, 421.0182564951133, 496.06910871445507, 448.77814240839945, 362.8459016919092, 493.3070908868409, 3409.4044324594634, 3703.2543092271903, 537.3733760765715, 634.1536228649933, 630.2832048847314, 488.42184486147704, 431.3245159386377, 381.8366957833364, 328.93135582344723, 320.83199089527074, 284.27987752843444, 266.8018907985824, 248.32085606877996, 241.03978968124562, 229.4640175505414, 206.50726081189356, 198.50048141324427, 177.38253722382302, 176.4294735820875, 174.30168919673991, 173.64921635646422, 172.11665864369695, 170.63506625725066, 169.3660603826065, 168.10435452792416, 167.75401227892465, 164.39221807097934, 159.67184842729395, 155.66644455140272, 153.34337320038836, 153.0161383845098, 151.80920134762806, 136.82924375841165, 130.787886110557, 460.25435636476516, 316.17608532892393, 998.666277764804, 465.93255789919834, 455.02262878974125, 937.6783887129859, 2774.9614926180448, 2094.0701921523305, 1684.123107345651, 522.350573020175, 1306.6741117893378, 511.8538533624922, 432.5262195903325, 343.90578913667235, 316.50434136822963, 295.194131576313, 259.00645314425725, 252.9880056562757, 246.32305490678775, 220.86389015146509, 214.24802426302827, 209.47008742139508, 209.0854892001558, 176.2359045069843, 175.29402605581976, 175.0441738421179, 172.46088224476046, 168.9312103191924, 168.77383981449674, 162.8730282544902, 151.6622667557645, 136.02572708739362, 130.38432494008944, 127.55990130673426, 126.0050144309792, 122.97358154680863, 120.95817669557884, 120.79323410781195, 112.39909719148672, 107.35960164891524, 420.05373653175303, 344.06691117521865, 207.20053360363897, 241.54607948000367, 192.49096918472569, 3409.4044324594634, 756.2911063540759, 937.6783887129859, 2094.0701921523305, 738.0987944716707, 438.5082135288595, 428.2902895341841, 416.98481762787577, 403.64608494338796, 288.5596983819917, 284.82479601353714, 257.7897491856685, 251.11606282442162, 249.68775493334292, 221.35936992955757, 179.8803081055355, 177.12328161160994, 174.39182231859414, 170.431202098272, 161.97172453707452, 154.45619228499498, 149.9497525436755, 144.7383219052609, 142.87541445412225, 133.1349167574954, 132.41200335061993, 132.34780919431603, 123.70719577255183, 123.07878551439055, 120.75949057412919, 116.05153247176403, 109.62396269047277, 109.39712158835869, 106.16886343395356, 100.8012389562041, 402.7979405514869, 1426.0440185734099, 493.49466868129366, 1043.9960659291787, 290.8189406647426, 307.0294067949238, 214.27530607941435, 231.38403713541055, 2094.0701921523305, 3409.4044324594634, 262.64720307689265, 998.666277764804, 323.6317369181709, 1401.0830373698304, 391.16957515158646, 578.1023999209891, 403.13713516804376, 2069.8986539791886, 328.864954517216, 327.2225357591144, 298.5480467904206, 267.5914465857718, 227.6404500811073, 223.42804246926437, 213.27624358768006, 210.0104083785794, 207.16473719768177, 203.66036117830413, 197.57039319648334, 194.74676245753776, 174.60034126313326, 170.64205316595894, 160.13115249845146, 155.94837998473983, 135.89846850920352, 133.0413986860779, 128.09290312982498, 118.15504560425799, 110.53484266771252, 106.64602988233524, 101.5419015721658, 96.07040345447878, 93.1704765796508, 87.93247508089705, 85.79630246857296, 2774.9614926180448, 455.1896704814666, 359.79877406966233, 634.1536228649933, 663.2212816290171, 421.0893799510954, 391.16957515158646, 937.6783887129859, 1043.9960659291787, 1113.5987155540465, 1075.5253703519352, 413.236046165723, 307.39838567719266, 292.4763698139513, 290.5496834355388, 258.5444511089614, 232.13033430936684, 192.2839372527547, 190.7777951824176, 179.91142993150083, 164.59278933790392, 161.52376131850903, 151.2534024790172, 138.22661982752842, 137.43510939078905, 137.10234117682955, 136.8886615632107, 136.73397540986394, 134.91042610345315, 130.0304816493322, 123.84680943424544, 122.66844066169031, 119.9162734652926, 116.34412060457885, 110.63081502313572, 100.23475550184557, 99.32525902055248, 92.53545388296492, 88.87949685209709, 87.86588217159415, 86.8628861282605, 845.4618662587121, 851.673632793855, 119.49312826016514, 2774.9614926180448, 1113.5987155540465, 937.6783887129859, 630.7603469458072, 649.4251672482025, 191.51519363414118, 261.6735295997168, 813.2052586253577, 1492.3317979291878, 219.23016520830794, 419.34228756715106], \"Category\": [\"Default\", \"Default\", \"Default\", \"Default\", \"Default\", \"Default\", \"Default\", \"Default\", \"Default\", \"Default\", \"Default\", \"Default\", \"Default\", \"Default\", \"Default\", \"Default\", \"Default\", \"Default\", \"Default\", \"Default\", \"Default\", \"Default\", \"Default\", \"Default\", \"Default\", \"Default\", \"Default\", \"Default\", \"Default\", \"Default\", \"Topic1\", \"Topic1\", \"Topic1\", \"Topic1\", \"Topic1\", \"Topic1\", \"Topic1\", \"Topic1\", \"Topic1\", \"Topic1\", \"Topic1\", \"Topic1\", \"Topic1\", \"Topic1\", \"Topic1\", \"Topic1\", \"Topic1\", \"Topic1\", \"Topic1\", \"Topic1\", \"Topic1\", \"Topic1\", \"Topic1\", \"Topic1\", \"Topic1\", \"Topic1\", \"Topic1\", \"Topic1\", \"Topic1\", \"Topic1\", \"Topic1\", \"Topic1\", \"Topic1\", \"Topic1\", \"Topic1\", \"Topic1\", \"Topic1\", \"Topic1\", \"Topic1\", \"Topic1\", \"Topic1\", \"Topic1\", \"Topic1\", \"Topic1\", \"Topic1\", \"Topic1\", \"Topic1\", \"Topic1\", \"Topic1\", \"Topic1\", \"Topic1\", \"Topic1\", \"Topic1\", \"Topic2\", \"Topic2\", \"Topic2\", \"Topic2\", \"Topic2\", \"Topic2\", \"Topic2\", \"Topic2\", \"Topic2\", \"Topic2\", \"Topic2\", \"Topic2\", \"Topic2\", \"Topic2\", \"Topic2\", \"Topic2\", \"Topic2\", \"Topic2\", \"Topic2\", \"Topic2\", \"Topic2\", \"Topic2\", \"Topic2\", \"Topic2\", \"Topic2\", \"Topic2\", \"Topic2\", \"Topic2\", \"Topic2\", \"Topic2\", \"Topic2\", \"Topic2\", \"Topic2\", \"Topic2\", \"Topic2\", \"Topic2\", \"Topic2\", \"Topic2\", \"Topic2\", \"Topic2\", \"Topic2\", \"Topic2\", \"Topic2\", \"Topic2\", \"Topic2\", \"Topic2\", \"Topic2\", \"Topic2\", \"Topic2\", \"Topic2\", \"Topic3\", \"Topic3\", \"Topic3\", \"Topic3\", \"Topic3\", \"Topic3\", \"Topic3\", \"Topic3\", \"Topic3\", \"Topic3\", \"Topic3\", \"Topic3\", \"Topic3\", \"Topic3\", \"Topic3\", \"Topic3\", \"Topic3\", \"Topic3\", \"Topic3\", \"Topic3\", \"Topic3\", \"Topic3\", \"Topic3\", \"Topic3\", \"Topic3\", \"Topic3\", \"Topic3\", \"Topic3\", \"Topic3\", \"Topic3\", \"Topic3\", \"Topic3\", \"Topic3\", \"Topic3\", \"Topic3\", \"Topic3\", \"Topic3\", \"Topic3\", \"Topic3\", \"Topic3\", \"Topic3\", \"Topic3\", \"Topic3\", \"Topic4\", \"Topic4\", \"Topic4\", \"Topic4\", \"Topic4\", \"Topic4\", \"Topic4\", \"Topic4\", \"Topic4\", \"Topic4\", \"Topic4\", \"Topic4\", \"Topic4\", \"Topic4\", \"Topic4\", \"Topic4\", \"Topic4\", \"Topic4\", \"Topic4\", \"Topic4\", \"Topic4\", \"Topic4\", \"Topic4\", \"Topic4\", \"Topic4\", \"Topic4\", \"Topic4\", \"Topic4\", \"Topic4\", \"Topic4\", \"Topic4\", \"Topic4\", \"Topic4\", \"Topic4\", \"Topic4\", \"Topic4\", \"Topic4\", \"Topic4\", \"Topic4\", \"Topic4\", \"Topic4\", \"Topic5\", \"Topic5\", \"Topic5\", \"Topic5\", \"Topic5\", \"Topic5\", \"Topic5\", \"Topic5\", \"Topic5\", \"Topic5\", \"Topic5\", \"Topic5\", \"Topic5\", \"Topic5\", \"Topic5\", \"Topic5\", \"Topic5\", \"Topic5\", \"Topic5\", \"Topic5\", \"Topic5\", \"Topic5\", \"Topic5\", \"Topic5\", \"Topic5\", \"Topic5\", \"Topic5\", \"Topic5\", \"Topic5\", \"Topic5\", \"Topic5\", \"Topic5\", \"Topic5\", \"Topic5\", \"Topic5\", \"Topic5\", \"Topic5\", \"Topic5\", \"Topic5\", \"Topic6\", \"Topic6\", \"Topic6\", \"Topic6\", \"Topic6\", \"Topic6\", \"Topic6\", \"Topic6\", \"Topic6\", \"Topic6\", \"Topic6\", \"Topic6\", \"Topic6\", \"Topic6\", \"Topic6\", \"Topic6\", \"Topic6\", \"Topic6\", \"Topic6\", \"Topic6\", \"Topic6\", \"Topic6\", \"Topic6\", \"Topic6\", \"Topic6\", \"Topic6\", \"Topic6\", \"Topic6\", \"Topic6\", \"Topic6\", \"Topic6\", \"Topic6\", \"Topic6\", \"Topic6\", \"Topic6\", \"Topic6\", \"Topic6\", \"Topic6\", \"Topic6\", \"Topic6\", \"Topic7\", \"Topic7\", \"Topic7\", \"Topic7\", \"Topic7\", \"Topic7\", \"Topic7\", \"Topic7\", \"Topic7\", \"Topic7\", \"Topic7\", \"Topic7\", \"Topic7\", \"Topic7\", \"Topic7\", \"Topic7\", \"Topic7\", \"Topic7\", \"Topic7\", \"Topic7\", \"Topic7\", \"Topic7\", \"Topic7\", \"Topic7\", \"Topic7\", \"Topic7\", \"Topic7\", \"Topic7\", \"Topic7\", \"Topic7\", \"Topic7\", \"Topic7\", \"Topic7\", \"Topic7\", \"Topic7\", \"Topic7\", \"Topic7\", \"Topic7\", \"Topic7\", \"Topic7\", \"Topic8\", \"Topic8\", \"Topic8\", \"Topic8\", \"Topic8\", \"Topic8\", \"Topic8\", \"Topic8\", \"Topic8\", \"Topic8\", \"Topic8\", \"Topic8\", \"Topic8\", \"Topic8\", \"Topic8\", \"Topic8\", \"Topic8\", \"Topic8\", \"Topic8\", \"Topic8\", \"Topic8\", \"Topic8\", \"Topic8\", \"Topic8\", \"Topic8\", \"Topic8\", \"Topic8\", \"Topic8\", \"Topic8\", \"Topic8\", \"Topic8\", \"Topic8\", \"Topic8\", \"Topic8\", \"Topic8\", \"Topic8\", \"Topic8\", \"Topic8\", \"Topic8\", \"Topic8\", \"Topic8\", \"Topic8\", \"Topic8\", \"Topic8\", \"Topic8\", \"Topic9\", \"Topic9\", \"Topic9\", \"Topic9\", \"Topic9\", \"Topic9\", \"Topic9\", \"Topic9\", \"Topic9\", \"Topic9\", \"Topic9\", \"Topic9\", \"Topic9\", \"Topic9\", \"Topic9\", \"Topic9\", \"Topic9\", \"Topic9\", \"Topic9\", \"Topic9\", \"Topic9\", \"Topic9\", \"Topic9\", \"Topic9\", \"Topic9\", \"Topic9\", \"Topic9\", \"Topic9\", \"Topic9\", \"Topic9\", \"Topic9\", \"Topic9\", \"Topic9\", \"Topic9\", \"Topic9\", \"Topic9\", \"Topic9\", \"Topic9\", \"Topic9\", \"Topic9\", \"Topic9\", \"Topic10\", \"Topic10\", \"Topic10\", \"Topic10\", \"Topic10\", \"Topic10\", \"Topic10\", \"Topic10\", \"Topic10\", \"Topic10\", \"Topic10\", \"Topic10\", \"Topic10\", \"Topic10\", \"Topic10\", \"Topic10\", \"Topic10\", \"Topic10\", \"Topic10\", \"Topic10\", \"Topic10\", \"Topic10\", \"Topic10\", \"Topic10\", \"Topic10\", \"Topic10\", \"Topic10\", \"Topic10\", \"Topic10\", \"Topic10\", \"Topic10\", \"Topic10\", \"Topic10\", \"Topic10\", \"Topic10\", \"Topic10\", \"Topic10\", \"Topic10\", \"Topic10\", \"Topic10\", \"Topic10\", \"Topic10\", \"Topic10\", \"Topic10\"], \"logprob\": [30.0, 29.0, 28.0, 27.0, 26.0, 25.0, 24.0, 23.0, 22.0, 21.0, 20.0, 19.0, 18.0, 17.0, 16.0, 15.0, 14.0, 13.0, 12.0, 11.0, 10.0, 9.0, 8.0, 7.0, 6.0, 5.0, 4.0, 3.0, 2.0, 1.0, -3.8578, -4.3015, -4.6058, -4.628, -4.6532, -4.6844, -4.8347, -4.8707, -4.8578, -4.91, -4.922, -4.9685, -5.2309, -5.3394, -5.3489, -5.3973, -4.3765, -5.4274, -5.4321, -5.4491, -5.5118, -5.6075, -5.6429, -5.6568, -5.6755, -5.704, -5.7296, -5.7391, -5.7552, -5.8043, -2.4462, -3.6987, -3.5911, -4.1099, -4.1704, -4.2532, -4.7834, -5.4698, -3.7844, -4.6158, -5.1129, -4.2009, -4.8812, -4.696, -4.4463, -4.9612, -4.7557, -4.0954, -4.7548, -4.5135, -4.594, -4.7395, -4.7923, -3.4428, -4.0247, -4.4473, -4.5594, -4.6565, -4.6732, -4.6782, -4.6815, -4.7448, -4.7579, -4.7437, -4.926, -4.9652, -4.9873, -5.0045, -5.0298, -5.1636, -5.1741, -5.2093, -5.3319, -5.3586, -5.3678, -5.4279, -5.4537, -5.4578, -5.4903, -5.5297, -5.5709, -5.6241, -5.637, -5.0754, -4.3737, -3.2069, -4.3903, -4.6059, -4.2166, -4.1538, -4.2929, -4.1403, -5.1011, -5.1312, -4.2812, -4.7748, -4.6276, -4.8646, -5.0043, -4.8977, -4.9282, -4.9058, -4.9998, -3.1104, -3.4063, -3.5022, -3.5963, -3.984, -4.1517, -4.3736, -4.5282, -4.5926, -4.9624, -4.9949, -5.0063, -5.0363, -5.0716, -5.078, -5.1799, -5.2044, -5.2527, -5.3123, -5.3785, -5.3879, -5.4124, -4.5146, -5.4575, -5.4578, -5.4461, -5.4693, -5.485, -5.4889, -5.5669, -4.1203, -3.053, -3.7625, -4.2675, -4.9268, -4.094, -5.1374, -4.6382, -4.8618, -4.5578, -4.9182, -4.9723, -5.1578, -3.2292, -3.4336, -3.8787, -3.8966, -3.9621, -4.3651, -4.4754, -4.5188, -4.749, -4.7857, -4.8246, -4.8964, -4.9384, -4.9732, -4.9795, -5.0421, -5.0519, -5.1559, -5.1605, -5.167, -5.212, -5.2757, -5.278, -5.3358, -5.3541, -5.4297, -5.4801, -5.5007, -5.5057, -5.535, -4.1097, -4.5763, -3.0186, -4.2975, -4.293, -4.2446, -4.9883, -4.8493, -4.6289, -4.9654, -5.0849, -3.2772, -3.7433, -3.8686, -3.8967, -3.9043, -4.0196, -4.2101, -4.2902, -4.3423, -4.3783, -4.4834, -4.5635, -4.5733, -4.6372, -4.7362, -4.7504, -4.7547, -4.7989, -4.8359, -4.8594, -4.8638, -4.8989, -4.9397, -4.9487, -4.3693, -5.0689, -5.1753, -5.2564, -5.3704, -5.3705, -4.1306, -4.0124, -4.1142, -4.4312, -4.1842, -3.7011, -3.7119, -4.5445, -4.8237, -3.6516, -3.907, -4.0316, -4.1537, -4.3032, -4.3282, -4.4495, -4.5131, -4.5852, -4.615, -4.6644, -4.7703, -4.81, -4.923, -4.9284, -4.9406, -4.9443, -4.9533, -4.9619, -4.9694, -4.977, -4.9791, -4.9994, -5.0287, -5.0542, -5.0694, -5.0715, -5.0795, -5.184, -5.2295, -4.219, -4.6801, -4.0669, -4.4826, -4.5965, -4.6872, -4.4925, -4.5911, -4.6499, -4.9595, -2.9024, -3.8406, -4.0093, -4.2391, -4.3224, -4.3923, -4.5235, -4.5471, -4.5739, -4.6834, -4.7139, -4.7365, -4.7384, -4.9101, -4.9155, -4.9169, -4.9318, -4.9526, -4.9536, -4.9893, -5.061, -5.1705, -5.2131, -5.2352, -5.2475, -5.2721, -5.2887, -5.2901, -5.3626, -5.4089, -4.3755, -4.6237, -4.9698, -4.8993, -5.1147, -4.1324, -4.7033, -4.6571, -4.8813, -5.0378, -3.9951, -4.0188, -4.0456, -4.0782, -4.4146, -4.4277, -4.5278, -4.5541, -4.5598, -4.6807, -4.8891, -4.9046, -4.9202, -4.9433, -4.9945, -5.0423, -5.072, -5.1076, -5.1207, -5.1917, -5.1972, -5.1977, -5.2657, -5.2708, -5.2899, -5.33, -5.3874, -5.3895, -5.4197, -5.472, -4.2868, -3.282, -4.2953, -3.8472, -4.7844, -4.7756, -4.9785, -4.9434, -3.9954, -3.793, -4.9583, -4.6091, -4.91, -4.7118, -4.9278, -3.6855, -4.0466, -2.4111, -4.2508, -4.2558, -4.3477, -4.4575, -4.6198, -4.6386, -4.6852, -4.7007, -4.7144, -4.7316, -4.7621, -4.7765, -4.8862, -4.9093, -4.9732, -4.9998, -5.1383, -5.1596, -5.1978, -5.2791, -5.3463, -5.3824, -5.4319, -5.4877, -5.5187, -5.5771, -5.6019, -2.6745, -4.3263, -4.5787, -4.2162, -4.188, -4.5048, -4.6585, -4.6638, -4.7474, -4.8908, -4.9984, -3.813, -4.1096, -4.1595, -4.1661, -4.2832, -4.3914, -4.5805, -4.5884, -4.6473, -4.7367, -4.7556, -4.8217, -4.9123, -4.9181, -4.9205, -4.9221, -4.9232, -4.9367, -4.9738, -5.0229, -5.0325, -5.0554, -5.0858, -5.1366, -5.2361, -5.2453, -5.3167, -5.3574, -5.369, -5.3806, -3.2574, -3.6285, -5.173, -3.3407, -4.0659, -4.2336, -4.4478, -4.4666, -4.9688, -4.897, -4.6886, -4.6043, -4.9524, -4.9562], \"loglift\": [30.0, 29.0, 28.0, 27.0, 26.0, 25.0, 24.0, 23.0, 22.0, 21.0, 20.0, 19.0, 18.0, 17.0, 16.0, 15.0, 14.0, 13.0, 12.0, 11.0, 10.0, 9.0, 8.0, 7.0, 6.0, 5.0, 4.0, 3.0, 2.0, 1.0, 1.9991, 1.9984, 1.9978, 1.9977, 1.9977, 1.9976, 1.9972, 1.9971, 1.997, 1.9969, 1.9969, 1.9967, 1.9957, 1.9952, 1.9951, 1.9949, 1.9948, 1.9947, 1.9947, 1.9946, 1.9942, 1.9936, 1.9934, 1.9933, 1.9931, 1.9929, 1.9928, 1.9927, 1.9926, 1.9922, 1.8151, 1.799, 1.744, 1.7643, 1.7356, 1.623, 1.6877, 1.9287, 1.047, 1.4496, 1.7225, 1.0147, 1.534, 1.3696, 1.0166, 1.5394, 1.2757, 0.2486, 1.0389, 0.5357, 0.6393, 0.9917, 1.0576, 2.0318, 2.0312, 2.0305, 2.0302, 2.03, 2.0299, 2.0299, 2.0299, 2.0297, 2.0297, 2.0292, 2.0292, 2.029, 2.0289, 2.0289, 2.0288, 2.0282, 2.0282, 2.028, 2.0274, 2.0273, 2.0272, 2.0269, 2.0268, 2.0267, 2.0265, 2.0263, 2.026, 2.0257, 2.0256, 2.0154, 1.9411, 1.7951, 1.8961, 1.918, 1.6942, 1.5774, 1.4844, 1.0929, 1.8204, 1.8042, 0.768, 1.3361, 0.8998, 1.327, 1.6325, 1.1679, 1.1372, 0.4293, 1.1052, 2.2509, 2.2507, 2.2506, 2.2505, 2.2499, 2.2496, 2.2491, 2.2487, 2.2485, 2.2471, 2.247, 2.2469, 2.2468, 2.2466, 2.2466, 2.2461, 2.2459, 2.2456, 2.2453, 2.2448, 2.2448, 2.2446, 2.2443, 2.2443, 2.2443, 2.2443, 2.2442, 2.2441, 2.2441, 2.2434, 2.1826, 2.1172, 2.06, 1.9398, 1.8728, 0.9552, 1.8972, 0.9337, 1.2609, 0.2736, 0.8755, 0.9039, 0.0755, 2.3124, 2.3122, 2.3116, 2.3116, 2.3114, 2.3106, 2.3103, 2.3101, 2.3094, 2.3092, 2.3091, 2.3088, 2.3086, 2.3084, 2.3084, 2.3081, 2.308, 2.3074, 2.3074, 2.3074, 2.3071, 2.3067, 2.3067, 2.3063, 2.3062, 2.3056, 2.3053, 2.3051, 2.305, 2.3048, 1.8925, 2.0122, 1.3253, 1.8075, 1.4381, 0.7574, 1.7165, 1.0615, -0.0791, 1.1454, 0.7649, 2.3298, 2.3293, 2.3291, 2.3291, 2.3291, 2.3289, 2.3285, 2.3283, 2.3281, 2.3281, 2.3277, 2.3275, 2.3275, 2.3273, 2.3269, 2.3268, 2.3268, 2.3266, 2.3265, 2.3264, 2.3264, 2.3262, 2.326, 2.326, 2.3257, 2.3254, 2.3248, 2.3243, 2.3235, 2.3235, 2.305, 2.2592, 2.2575, 2.1531, 2.0929, 0.6429, 0.5494, 1.6471, 1.2023, 2.3805, 2.3801, 2.3799, 2.3796, 2.3792, 2.3792, 2.3788, 2.3786, 2.3784, 2.3783, 2.3781, 2.3777, 2.3775, 2.377, 2.377, 2.3769, 2.3769, 2.3768, 2.3768, 2.3768, 2.3767, 2.3767, 2.3766, 2.3764, 2.3763, 2.3762, 2.3762, 2.3762, 2.3755, 2.3752, 2.1275, 2.0419, 1.505, 1.8516, 1.7614, 0.9477, 0.0574, 0.2403, 0.3994, 1.2605, 2.4006, 2.3996, 2.3993, 2.3988, 2.3986, 2.3984, 2.3979, 2.3979, 2.3978, 2.3974, 2.3972, 2.3972, 2.3971, 2.3964, 2.3963, 2.3963, 2.3963, 2.3962, 2.3962, 2.396, 2.3956, 2.3949, 2.3946, 2.3945, 2.3944, 2.3942, 2.3941, 2.3941, 2.3936, 2.3932, 2.0624, 2.0138, 2.1748, 2.0919, 2.1036, 0.2115, 1.1466, 0.9777, -0.0499, 0.8364, 2.3998, 2.3997, 2.3996, 2.3996, 2.3987, 2.3987, 2.3984, 2.3983, 2.3982, 2.3978, 2.3969, 2.3968, 2.3968, 2.3966, 2.3964, 2.3961, 2.3959, 2.3957, 2.3956, 2.3952, 2.3952, 2.3952, 2.3947, 2.3947, 2.3945, 2.3942, 2.3938, 2.3938, 2.3935, 2.3931, 2.193, 1.9336, 1.9815, 1.6802, 2.0212, 1.9757, 2.1325, 2.0908, 0.836, 0.551, 1.9491, 0.9627, 1.7887, 0.5215, 1.5814, 2.433, 2.4324, 2.4319, 2.4319, 2.4319, 2.4316, 2.4313, 2.4307, 2.4306, 2.4304, 2.4304, 2.4303, 2.4302, 2.4301, 2.4301, 2.4295, 2.4294, 2.4291, 2.4289, 2.4281, 2.428, 2.4277, 2.4272, 2.4266, 2.4264, 2.4259, 2.4255, 2.4252, 2.4246, 2.4244, 1.8754, 2.0312, 2.014, 1.8097, 1.7931, 1.9306, 1.8507, 0.9711, 0.7801, 0.5721, 0.4993, 2.6412, 2.6405, 2.6404, 2.6404, 2.64, 2.6396, 2.6388, 2.6388, 2.6385, 2.6381, 2.638, 2.6376, 2.6371, 2.637, 2.637, 2.637, 2.637, 2.6369, 2.6367, 2.6364, 2.6363, 2.6361, 2.6359, 2.6355, 2.6347, 2.6346, 2.634, 2.6336, 2.6335, 2.6334, 2.481, 2.1026, 2.522, 1.2092, 1.397, 1.4013, 1.5836, 1.5356, 2.2545, 2.0142, 1.0887, 0.5659, 2.1358, 1.4834]}, \"token.table\": {\"Topic\": [4, 6, 3, 6, 1, 2, 10, 1, 2, 7, 5, 1, 8, 9, 2, 8, 9, 1, 8, 1, 4, 5, 7, 8, 6, 6, 3, 1, 8, 2, 1, 2, 3, 4, 6, 7, 3, 10, 6, 7, 1, 7, 4, 1, 2, 10, 4, 9, 1, 5, 2, 7, 2, 9, 1, 7, 1, 7, 8, 3, 8, 3, 4, 4, 8, 8, 6, 6, 3, 6, 1, 6, 1, 10, 5, 10, 5, 5, 9, 5, 2, 10, 3, 6, 7, 10, 2, 4, 3, 1, 2, 3, 4, 8, 10, 3, 7, 7, 2, 5, 6, 1, 5, 1, 6, 10, 3, 4, 7, 3, 4, 9, 4, 2, 4, 6, 3, 2, 4, 9, 7, 1, 3, 7, 6, 2, 4, 9, 9, 2, 7, 9, 7, 9, 1, 2, 3, 6, 9, 10, 3, 4, 6, 5, 3, 5, 10, 10, 4, 3, 5, 1, 8, 5, 6, 9, 2, 6, 3, 1, 8, 10, 10, 8, 8, 8, 1, 8, 10, 9, 8, 1, 3, 4, 7, 4, 10, 2, 6, 9, 9, 1, 1, 5, 8, 5, 2, 10, 2, 7, 1, 5, 6, 9, 5, 8, 1, 3, 4, 5, 10, 8, 1, 6, 2, 2, 4, 9, 3, 5, 1, 2, 10, 8, 2, 8, 10, 3, 4, 10, 2, 10, 5, 9, 3, 4, 10, 3, 10, 7, 3, 6, 7, 1, 5, 2, 5, 9, 4, 1, 3, 2, 1, 2, 3, 4, 6, 2, 3, 10, 4, 6, 8, 4, 5, 8, 7, 9, 1, 2, 7, 4, 2, 5, 5, 9, 1, 2, 3, 7, 10, 6, 2, 3, 7, 10, 4, 8, 1, 8, 4, 8, 9, 5, 2, 3, 7, 1, 2, 5, 4, 1, 7, 1, 9, 8, 7, 3, 3, 9, 9, 1, 4, 5, 8, 4, 5, 2, 8, 6, 6, 1, 4, 7, 10, 7, 8, 9, 2, 4, 2, 9, 7, 10, 7, 3, 10, 2, 4, 8, 8, 1, 8, 1, 8, 9, 7, 2, 7, 8, 6, 5, 2, 10, 1, 3, 6, 7, 8, 9, 10, 4, 3, 9, 4, 4, 10, 2, 2, 4, 9, 6, 10, 4, 6, 8, 9, 10, 2, 10, 6, 9, 7, 2, 5, 2, 6, 2, 1, 7, 4, 5, 7, 1, 9, 4, 7, 9, 3, 9, 2, 6, 1, 9, 2, 3, 4, 5, 3, 6, 9, 2, 4, 2, 8, 7, 4, 6, 5, 1, 2, 5, 9, 3, 7, 4, 7, 5, 4, 1, 10, 6, 7, 10, 2, 6, 1, 3, 8, 7, 2, 3, 3, 7, 5, 1, 9, 3, 3, 8, 2, 5, 4, 9, 10, 2, 2, 4, 1, 8, 8, 2, 10, 7, 3, 6, 8, 10, 7, 1, 2, 3, 4, 9, 10, 6, 5, 3, 5, 2, 6, 3, 5, 4, 8, 4, 6, 9, 10, 2, 7, 5, 8, 8, 3, 2, 3, 1, 5, 1, 1, 2, 8, 10, 9, 10, 9, 4, 5, 2, 7, 1, 9, 1, 2, 6, 2, 5, 10, 8, 10, 1, 2, 9, 1, 8, 1, 9, 4, 10, 8, 1, 5, 8, 1, 3, 5, 6, 3, 4, 7, 10, 4, 6, 6, 7, 9, 10, 9, 7, 6], \"Freq\": [0.9933082947860417, 0.9979778199846118, 0.99092645076129, 0.9975436175469122, 0.6311206734366639, 0.3675200708767722, 0.9933227014637891, 0.9893612490186573, 0.9917934074607164, 0.992459315532755, 0.9984846909068271, 0.8182047808988875, 0.03719112640449489, 0.1441156148174177, 0.321840293239949, 0.48563401390670874, 0.19157160311901725, 0.18619757563138103, 0.8118214297528213, 0.17363736445105318, 0.3724990757649283, 0.18478300608811404, 0.11204302908834851, 0.15721220835433194, 0.993975847962777, 0.9974786891715273, 0.9959481461622505, 0.9903991034984942, 0.9963699082517639, 0.9951885537496821, 0.01563262398714256, 0.2588067748982491, 0.3717090592498342, 0.2518589420150746, 0.03821308085745959, 0.06426745416936386, 0.9975320649854059, 0.9951306049132708, 0.2856777349269666, 0.7118136895263584, 0.7309172734803869, 0.26578809944741344, 0.9986873937619613, 0.7736558672140048, 0.20151404100058348, 0.02449778537654152, 0.9969704659653261, 0.9939422978703659, 0.9953086841819454, 0.9988474474755453, 0.9963840301603339, 0.9973276128548016, 0.9919506419626418, 0.9888581351176903, 0.9911078509548545, 0.9926179683076725, 0.9969536249852278, 0.9987833810610813, 0.9938589907895466, 0.3617019290024108, 0.6358339172989748, 0.8259832228345152, 0.17368806087641675, 0.9892208772359574, 0.9937107173066205, 0.9968884743059966, 0.9954978258061673, 0.9934305418141878, 0.9938445142771555, 0.996929189300183, 0.9967868986421741, 0.9946808492460492, 0.9967728223545108, 0.9920750762724143, 0.9964163280819784, 0.9963984489217997, 0.9978622320662438, 0.7885554600495945, 0.21082202530888905, 0.9964983216484214, 0.9974908903025761, 0.994298017030754, 0.24425981215267167, 0.01655998726458791, 0.732779436458015, 0.9900661126204536, 0.44768985979653536, 0.5502854526665747, 0.9957198584169278, 0.2562303521095575, 0.3904122635206907, 0.11348363784239456, 0.07422829141892474, 0.15273898426586438, 0.012133470712708852, 0.9966691053226798, 0.994639823033645, 0.9948083953395892, 0.4931394293010891, 0.5043048503418684, 0.9956862322082979, 0.9890769411496586, 0.996906170693041, 0.48512878382681607, 0.168051147338701, 0.347200011954486, 0.7316016484206702, 0.011342661215824345, 0.2552098773560478, 0.9888805114736459, 0.9959286599445536, 0.9933886781870344, 0.9989861645137097, 0.7883716907535993, 0.211251897019463, 0.997964082059007, 0.9912749985006062, 0.9992337929810436, 0.9936548655032322, 0.9946632713808233, 0.9960946541567742, 0.6856041996748702, 0.259307727005743, 0.05294765106399988, 0.997168540466093, 0.7125256863090061, 0.2866967258521445, 0.9971865717148287, 0.9874372588547385, 0.9930703527979154, 0.9920830024257036, 0.9943777246386756, 0.9983318414877937, 0.9902243226402143, 0.0196752293843333, 0.5779598631647908, 0.003689105509562494, 0.11067316528687482, 0.07624151386429154, 0.211508715881583, 0.012651178206089575, 0.27200033143092583, 0.7116287740925386, 0.9981114281103617, 0.9955154390613665, 0.9957557875235465, 0.9917132278780235, 0.9949340076289325, 0.9964713979767602, 0.9994195181836316, 0.9971079649897668, 0.9332496283241957, 0.06221664188827971, 0.9968740513945309, 0.999136310412986, 0.9973698793217849, 0.9975376739874623, 0.9975657492290387, 0.9908842758111721, 0.997005581555526, 0.9920512985306438, 0.9876813636581092, 0.9919597202544645, 0.9980603723072554, 0.9943081542104572, 0.9898161578758199, 0.9955931449148063, 0.9972455400004436, 0.9967573729448002, 0.9893955551684497, 0.9974699345368498, 0.3900614426396397, 0.11239058516735381, 0.21288099072875252, 0.2856043105429226, 0.4168263362051584, 0.5823827119936861, 0.29229315551569457, 0.53843476016049, 0.16922235319329684, 0.9977897403174948, 0.9986189653727136, 0.8308908173908587, 0.16850044525573477, 0.0005400655296658165, 0.9916407105563478, 0.9832286529984909, 0.013719469576723129, 0.9904749552703016, 0.9956106793671162, 0.996361423541731, 0.40993057205785927, 0.5880679410672954, 0.9940160068172085, 0.997404209067692, 0.9889905251299907, 0.6283621494223329, 0.058181680502067866, 0.0023272672200827147, 0.31185380749108377, 0.9901046148634184, 0.9971041987036201, 0.9936843238098384, 0.997406770774482, 0.9926048696568589, 0.4977961447635573, 0.31069345586966857, 0.18881922732410797, 0.9976236112534677, 0.9951606884985803, 0.9974826734349483, 0.1490309676030307, 0.8504227437030085, 0.9976382410432155, 0.45730990850696845, 0.5407380674913478, 0.9945508342807273, 0.01231858634906044, 0.6559647230874684, 0.33106200813099934, 0.9967432617202543, 0.998704008557771, 0.9958402970536802, 0.996237427093458, 0.99426376570571, 0.9945009494992159, 0.9923590565415811, 0.995294001413682, 0.9942135272428432, 0.9960885858214639, 0.9907695214833219, 0.991239444050622, 0.9934331246806094, 0.7678774989972192, 0.23078285488987463, 0.14034454238062039, 0.3232655189665975, 0.5361476899933812, 0.998523577055943, 0.9954694696869698, 0.9968125288334632, 0.996736236293512, 0.23098073905838362, 0.28263967041591415, 0.2737329581128916, 0.07481638334538904, 0.13775715028674806, 0.31105361705030243, 0.683634323187478, 0.9931624444899806, 0.9979947755660896, 0.9969944335994688, 0.9936661946581149, 0.06907644796075924, 0.9291896386979548, 0.9948989189902023, 0.992024012413175, 0.9929360871960102, 0.9943977538289732, 0.9135131300170641, 0.08629962749009132, 0.9962892427215368, 0.8925376508356708, 0.10637803396587937, 0.9947625286521269, 0.9980842043615754, 0.3825144746493537, 0.22875865640794682, 0.25250955516068446, 0.13625515600254756, 0.9978941682692236, 0.9925319760081576, 0.22892992871515996, 0.2885470976513995, 0.1669280730214708, 0.31239396522589535, 0.9967747401488849, 0.9988410398866426, 0.34524380288693746, 0.6546604186818342, 0.9976764393896528, 0.6842745508429868, 0.3129094679734261, 0.9949294942037268, 0.019304969588793325, 0.1833972110935366, 0.7963299955377247, 0.992089322288201, 0.023751939127884515, 0.9738295042432651, 0.9963354908176861, 0.7898671619119904, 0.20864415597675218, 0.9974185018352774, 0.9967575370362524, 0.99123500033022, 0.9977558255348918, 0.99571681244883, 0.9986733100273337, 0.9981642928288681, 0.9951613205863028, 0.9958161126889749, 0.0030786289513566453, 0.9943971512881964, 0.9914754387118245, 0.9958580374449348, 0.9978903276912847, 0.2636309779844561, 0.7347092829075007, 0.9957923175944201, 0.9962613343723272, 0.2848283191931024, 0.03487693704405336, 0.6801002723590405, 0.9911260231273908, 0.9940347980786854, 0.4397069990255412, 0.557303056904465, 0.9950718241503538, 0.99774386987474, 0.3295329611529649, 0.6678534679366754, 0.9920784462716371, 0.9866573816809453, 0.9994841010598927, 0.874470410541988, 0.1253072542309209, 0.6709602720704815, 0.3282186612292831, 0.9983993776541186, 0.9977532070404177, 0.758079239925008, 0.24088499212570347, 0.34245557394084586, 0.6565420470818584, 0.9939186288127352, 0.9946287816733662, 0.7948013552458097, 0.07439027462891816, 0.12528888358554635, 0.9978434335768896, 0.9970862006672051, 0.9974605601389009, 0.9968340739661229, 0.3853739015169057, 0.13848628431214702, 0.11747457220961438, 0.0859570040558154, 0.20916204320248413, 0.06112498066191317, 0.0023876945571059834, 0.994447441332512, 0.700398906780433, 0.29399460284610773, 0.9942207774534133, 0.9922303726825338, 0.9901454108216524, 0.9969824219735498, 0.9962887514231509, 0.9909489558062959, 0.9961654692067059, 0.9933592731117266, 0.993508143384101, 0.09153280168956976, 0.09765901282627325, 0.0003603653609825581, 0.5715394625183372, 0.23820150360947093, 0.9983814697101983, 0.9959230308659669, 0.9935121989207996, 0.9914678869545388, 0.9954149303271924, 0.9966072850470133, 0.9943798289007202, 0.993863764545915, 0.9939395721584504, 0.9963343802589338, 0.9953794635628755, 0.9956332793256281, 0.9936350589247824, 0.9972953705010031, 0.9929872150034256, 0.9955446600756785, 0.004454338523828539, 0.9956902360507723, 0.9964492847232856, 0.9971792844944196, 0.994528839339544, 0.9980930715369115, 0.8716002106269772, 0.1268526128142549, 0.988037896277421, 0.9921723711839863, 0.9944242657652687, 0.9983486321932578, 0.996508551029971, 0.9974947333656365, 0.9977687625418893, 0.9978386438122281, 0.9962639010901915, 0.39593220559760334, 0.6024313300687671, 0.9981154448838433, 0.9938728824866971, 0.9941748622078489, 0.9966355620104465, 0.997808760151719, 0.9962309964699385, 0.995264064934766, 0.2246610658120368, 0.2472779516320405, 0.5262195434120862, 0.25455739667961624, 0.7428919943915331, 0.9978502866028736, 0.9873360032262286, 0.9948552923050898, 0.9947830569350214, 0.9921235884616779, 0.9983712536699826, 0.9946696159360257, 0.39228178256529883, 0.6021069220769704, 0.9966920059125554, 0.9955052504039609, 0.9986476672013926, 0.9995619188506731, 0.9942833093246081, 0.9944876360180402, 0.9983362486470714, 0.9971051354369617, 0.9911431286809004, 0.0032819308896718555, 0.9979798421885924, 0.9897861952030056, 0.9971129621839843, 0.9939991752463521, 0.9919951814455266, 0.9955555896669105, 0.15984747169405136, 0.8378212309481313, 0.06265821406798701, 0.2558543741109469, 0.6787973190698592, 0.9965512749284031, 0.9954794629522112, 0.9962200234214653, 0.3730600129245686, 0.6262078788376687, 0.9940006532630817, 0.46240825422844356, 0.5311962589896997, 0.9973661707209227, 0.2673565794146913, 0.41655556942513705, 0.237316514311917, 0.0781041692672132, 0.9961141773417642, 0.37356364926573066, 0.16163811747074885, 0.019755769913091525, 0.0017959790830083206, 0.15535219068021972, 0.28735665328133125, 0.9962782195290784, 0.9973357165013745, 0.9947883339042146, 0.9992531114361143, 0.998145764407505, 0.9976141323745021, 0.9339099051949357, 0.06447930303127618, 0.9960856937343198, 0.9970464616649798, 0.0014493463214891114, 0.0009662308809927409, 0.9976333846250051, 0.9884470259640611, 0.8069867167527267, 0.1891978426836536, 0.9938790340171016, 0.9936581933137788, 0.9909390901665183, 0.9991656070188057, 0.9984563835549821, 0.9932796955224328, 0.9919546995044216, 0.9955604380260477, 0.9943311542368387, 0.3652100738638456, 0.6341268163552303, 0.1087928669144546, 0.8870802994563222, 0.9907186854717352, 0.993251625320974, 0.9965616260610367, 0.06652298927768006, 0.9313218498875209, 0.9994728973660567, 0.9959547584163125, 0.34185775178929706, 0.6559221904249928, 0.531561745779517, 0.4216400267448637, 0.04593743482045208, 0.9939048163380161, 0.9927942643587818, 0.99463209193133, 0.9951061452206373, 0.9970088616973475, 0.577375194575748, 0.4084273393447763, 0.013122163513085183, 0.9906164068013126, 0.9969873481474738, 0.3942155938942914, 0.603197354512952, 0.7389317222613674, 0.25738071224834147, 0.9969364600874813, 0.9975743990391575, 0.23334466726403408, 0.7653705086260317, 0.1876134631831157, 0.1933567324642315, 0.29290673333690515, 0.3254519259298946, 0.9978328670389426, 0.99337858753271, 0.9970523685246211, 0.9981081258494617, 0.22378929949414636, 0.7756580574700025, 0.23782141370036214, 0.24102080491606206, 0.23142263126896226, 0.2890116731515612, 0.9951887699929711, 0.9984065262231494, 0.9957187655096558], \"Term\": [\"able\", \"act\", \"action\", \"adam\", \"administration\", \"administration\", \"ago\", \"agree\", \"allow\", \"amazing\", \"amendment\", \"america\", \"america\", \"america\", \"american\", \"american\", \"american\", \"americans\", \"americans\", \"amp\", \"amp\", \"amp\", \"amp\", \"amp\", \"angry\", \"approval\", \"asked\", \"attack\", \"attorney\", \"away\", \"bad\", \"bad\", \"bad\", \"bad\", \"bad\", \"bad\", \"based\", \"believe\", \"best\", \"best\", \"better\", \"better\", \"biden\", \"big\", \"big\", \"big\", \"biggest\", \"black\", \"book\", \"border\", \"borders\", \"breaking\", \"bring\", \"building\", \"businesses\", \"california\", \"called\", \"campaign\", \"carolina\", \"case\", \"case\", \"china\", \"china\", \"choice\", \"chuck\", \"city\", \"clinton\", \"close\", \"cnn\", \"collusion\", \"come\", \"comey\", \"coming\", \"committee\", \"complete\", \"conference\", \"congratulations\", \"congress\", \"congress\", \"congressman\", \"continue\", \"continues\", \"coronavirus\", \"coronavirus\", \"coronavirus\", \"correct\", \"corrupt\", \"corrupt\", \"countries\", \"country\", \"country\", \"country\", \"country\", \"country\", \"country\", \"court\", \"covid\", \"crazy\", \"crime\", \"crime\", \"crooked\", \"crowd\", \"cuts\", \"day\", \"day\", \"day\", \"deal\", \"deal\", \"deal\", \"deals\", \"decades\", \"decision\", \"democrat\", \"democrats\", \"democrats\", \"dems\", \"department\", \"did\", \"disaster\", \"dishonest\", \"doesn\", \"doing\", \"doing\", \"doing\", \"dollars\", \"don\", \"don\", \"donald\", \"dont\", \"drug\", \"drugs\", \"economic\", \"economy\", \"elected\", \"election\", \"election\", \"election\", \"election\", \"election\", \"election\", \"end\", \"end\", \"end\", \"endorsement\", \"enemy\", \"enforcement\", \"enjoy\", \"evidence\", \"fact\", \"fake\", \"family\", \"fantastic\", \"fantastic\", \"farmers\", \"fbi\", \"federal\", \"fight\", \"fighting\", \"fired\", \"florida\", \"flynn\", \"forced\", \"foreign\", \"forward\", \"freedom\", \"friend\", \"future\", \"general\", \"given\", \"giving\", \"god\", \"going\", \"going\", \"going\", \"going\", \"good\", \"good\", \"got\", \"got\", \"got\", \"government\", \"governor\", \"great\", \"great\", \"great\", \"guy\", \"happen\", \"happen\", \"happened\", \"happening\", \"happy\", \"hard\", \"hard\", \"having\", \"healthcare\", \"hear\", \"help\", \"help\", \"help\", \"help\", \"heroes\", \"high\", \"highly\", \"hillary\", \"historic\", \"history\", \"history\", \"history\", \"hoax\", \"home\", \"honor\", \"house\", \"house\", \"hunt\", \"illegal\", \"illegal\", \"impeach\", \"impeachment\", \"impeachment\", \"impeachment\", \"important\", \"including\", \"incredible\", \"information\", \"intelligence\", \"interview\", \"interviewed\", \"investigation\", \"iowa\", \"iran\", \"israel\", \"james\", \"japan\", \"job\", \"job\", \"jobs\", \"jobs\", \"jobs\", \"joe\", \"john\", \"join\", \"jordan\", \"just\", \"just\", \"just\", \"just\", \"just\", \"justice\", \"justice\", \"kim\", \"know\", \"korea\", \"large\", \"law\", \"law\", \"laws\", \"leader\", \"leadership\", \"leaving\", \"left\", \"left\", \"legal\", \"let\", \"let\", \"lies\", \"life\", \"like\", \"like\", \"like\", \"like\", \"live\", \"lives\", \"long\", \"long\", \"long\", \"long\", \"longer\", \"look\", \"looking\", \"looking\", \"lost\", \"love\", \"love\", \"loves\", \"low\", \"low\", \"low\", \"lowest\", \"maga\", \"maga\", \"major\", \"make\", \"make\", \"making\", \"man\", \"mark\", \"market\", \"matter\", \"media\", \"meeting\", \"melania\", \"men\", \"mexico\", \"mexico\", \"michael\", \"mike\", \"military\", \"million\", \"million\", \"millions\", \"minister\", \"money\", \"money\", \"money\", \"months\", \"morning\", \"mueller\", \"mueller\", \"nancy\", \"nation\", \"national\", \"national\", \"nations\", \"needs\", \"new\", \"news\", \"news\", \"night\", \"night\", \"north\", \"number\", \"numbers\", \"numbers\", \"obama\", \"obama\", \"obstruction\", \"office\", \"open\", \"open\", \"open\", \"paid\", \"party\", \"pelosi\", \"pence\", \"people\", \"people\", \"people\", \"people\", \"people\", \"people\", \"people\", \"phony\", \"place\", \"place\", \"plan\", \"point\", \"points\", \"police\", \"political\", \"politics\", \"poll\", \"possible\", \"post\", \"president\", \"president\", \"president\", \"president\", \"president\", \"presidential\", \"press\", \"prime\", \"pro\", \"process\", \"protect\", \"proud\", \"public\", \"quickly\", \"radical\", \"rally\", \"rate\", \"ratings\", \"read\", \"ready\", \"really\", \"really\", \"reason\", \"released\", \"report\", \"reporting\", \"republican\", \"republicans\", \"republicans\", \"respected\", \"ridiculous\", \"rigged\", \"right\", \"run\", \"russia\", \"russian\", \"safe\", \"safety\", \"said\", \"said\", \"say\", \"saying\", \"says\", \"scam\", \"schiff\", \"second\", \"secretary\", \"security\", \"security\", \"security\", \"seen\", \"seen\", \"senate\", \"set\", \"shows\", \"sleepy\", \"small\", \"soon\", \"south\", \"southern\", \"southern\", \"spoke\", \"start\", \"state\", \"states\", \"stay\", \"stock\", \"stop\", \"stories\", \"story\", \"story\", \"strong\", \"stronger\", \"suburban\", \"supreme\", \"talking\", \"tariffs\", \"tax\", \"tax\", \"team\", \"team\", \"team\", \"tell\", \"terrible\", \"texas\", \"thank\", \"thank\", \"thanks\", \"thing\", \"thing\", \"things\", \"time\", \"time\", \"time\", \"time\", \"times\", \"today\", \"today\", \"today\", \"today\", \"today\", \"today\", \"told\", \"tonight\", \"took\", \"total\", \"totally\", \"tough\", \"trade\", \"trade\", \"true\", \"truly\", \"trump\", \"trump\", \"trump\", \"try\", \"trying\", \"trying\", \"ukraine\", \"unemployment\", \"unfair\", \"united\", \"usa\", \"use\", \"used\", \"vets\", \"victory\", \"vote\", \"vote\", \"voted\", \"voted\", \"voter\", \"voters\", \"voting\", \"wall\", \"wall\", \"want\", \"washington\", \"watch\", \"watch\", \"way\", \"way\", \"way\", \"weak\", \"welcome\", \"went\", \"whistleblower\", \"white\", \"win\", \"win\", \"win\", \"winning\", \"witch\", \"women\", \"women\", \"won\", \"won\", \"wonderful\", \"work\", \"workers\", \"workers\", \"working\", \"working\", \"working\", \"working\", \"world\", \"worse\", \"worst\", \"wrong\", \"year\", \"year\", \"years\", \"years\", \"years\", \"years\", \"yesterday\", \"york\", \"zero\"]}, \"R\": 30, \"lambda.step\": 0.01, \"plot.opts\": {\"xlab\": \"PC1\", \"ylab\": \"PC2\"}, \"topic.order\": [7, 6, 5, 10, 9, 8, 4, 1, 3, 2]};\n",
              "\n",
              "function LDAvis_load_lib(url, callback){\n",
              "  var s = document.createElement('script');\n",
              "  s.src = url;\n",
              "  s.async = true;\n",
              "  s.onreadystatechange = s.onload = callback;\n",
              "  s.onerror = function(){console.warn(\"failed to load library \" + url);};\n",
              "  document.getElementsByTagName(\"head\")[0].appendChild(s);\n",
              "}\n",
              "\n",
              "if(typeof(LDAvis) !== \"undefined\"){\n",
              "   // already loaded: just create the visualization\n",
              "   !function(LDAvis){\n",
              "       new LDAvis(\"#\" + \"ldavis_el62139673736265184197118185\", ldavis_el62139673736265184197118185_data);\n",
              "   }(LDAvis);\n",
              "}else if(typeof define === \"function\" && define.amd){\n",
              "   // require.js is available: use it to load d3/LDAvis\n",
              "   require.config({paths: {d3: \"https://cdnjs.cloudflare.com/ajax/libs/d3/3.5.5/d3.min\"}});\n",
              "   require([\"d3\"], function(d3){\n",
              "      window.d3 = d3;\n",
              "      LDAvis_load_lib(\"https://cdn.rawgit.com/bmabey/pyLDAvis/files/ldavis.v1.0.0.js\", function(){\n",
              "        new LDAvis(\"#\" + \"ldavis_el62139673736265184197118185\", ldavis_el62139673736265184197118185_data);\n",
              "      });\n",
              "    });\n",
              "}else{\n",
              "    // require.js not available: dynamically load d3 & LDAvis\n",
              "    LDAvis_load_lib(\"https://cdnjs.cloudflare.com/ajax/libs/d3/3.5.5/d3.min.js\", function(){\n",
              "         LDAvis_load_lib(\"https://cdn.rawgit.com/bmabey/pyLDAvis/files/ldavis.v1.0.0.js\", function(){\n",
              "                 new LDAvis(\"#\" + \"ldavis_el62139673736265184197118185\", ldavis_el62139673736265184197118185_data);\n",
              "            })\n",
              "         });\n",
              "}\n",
              "</script>"
            ],
            "text/plain": [
              "PreparedData(topic_coordinates=               x          y  topics  cluster       Freq\n",
              "topic                                                  \n",
              "6      32.420952   8.115230       1        1  13.530467\n",
              "5       0.648955  71.707100       2        1  13.099224\n",
              "4      71.019684   9.971006       3        1  10.523040\n",
              "9       3.785981  33.185135       4        1   9.894517\n",
              "8     -42.666500  -9.222070       5        1   9.722341\n",
              "7      -3.621689 -43.526516       6        1   9.237644\n",
              "3      -3.632402  -4.171708       7        1   9.060177\n",
              "0     -36.584400  35.804413       8        1   9.056134\n",
              "2      44.391380  50.615383       9        1   8.764089\n",
              "1      40.235809 -31.591665      10        1   7.112367, topic_info=           Term         Freq        Total Category  logprob  loglift\n",
              "1918      great  3703.000000  3703.000000  Default  30.0000  30.0000\n",
              "4590      trump  2069.000000  2069.000000  Default  29.0000  29.0000\n",
              "3411  president  2774.000000  2774.000000  Default  28.0000  28.0000\n",
              "2988        new  1306.000000  1306.000000  Default  27.0000  27.0000\n",
              "1618       fake  1232.000000  1232.000000  Default  26.0000  26.0000\n",
              "...         ...          ...          ...      ...      ...      ...\n",
              "4472      thing   139.486102   261.673530  Topic10  -4.8970   2.0142\n",
              "1434   election   171.796548   813.205259  Topic10  -4.6886   1.0887\n",
              "2991       news   186.915711  1492.331798  Topic10  -4.6043   0.5659\n",
              "4157   southern   131.967841   219.230165  Topic10  -4.9524   2.1358\n",
              "2664       long   131.465312   419.342288  Topic10  -4.9562   1.4834\n",
              "\n",
              "[466 rows x 6 columns], token_table=      Topic      Freq            Term\n",
              "term                                 \n",
              "7         4  0.993308            able\n",
              "54        6  0.997978             act\n",
              "57        3  0.990926          action\n",
              "67        6  0.997544            adam\n",
              "80        1  0.631121  administration\n",
              "...     ...       ...             ...\n",
              "4982      9  0.231423           years\n",
              "4982     10  0.289012           years\n",
              "4985      9  0.995189       yesterday\n",
              "4986      7  0.998407            york\n",
              "4997      6  0.995719            zero\n",
              "\n",
              "[541 rows x 3 columns], R=30, lambda_step=0.01, plot_opts={'xlab': 'PC1', 'ylab': 'PC2'}, topic_order=[7, 6, 5, 10, 9, 8, 4, 1, 3, 2])"
            ]
          },
          "metadata": {
            "tags": []
          },
          "execution_count": 57
        }
      ]
    },
    {
      "cell_type": "code",
      "metadata": {
        "colab": {
          "base_uri": "https://localhost:8080/"
        },
        "id": "JKCsOn2XMcwY",
        "outputId": "1bd00593-9a3d-47a7-8d4f-6d308a63d8dc"
      },
      "source": [
        "#Let's list the 10 most used words from each topic found by the LDA:\r\n",
        "for i, topic in enumerate(lda_model.components_):\r\n",
        "  print(f'Top 10 words for topic #{i}:')\r\n",
        "  print([vectorizer.get_feature_names()[i] for i in topic.argsort()[-10:]])\r\n",
        "  print('\\n')"
      ],
      "execution_count": null,
      "outputs": [
        {
          "output_type": "stream",
          "text": [
            "Top 10 words for topic #0:\n",
            "['obama', 'americans', 'north', 'hunt', 'witch', 'people', 'look', 'american', 'amp', 'thank']\n",
            "\n",
            "\n",
            "Top 10 words for topic #1:\n",
            "['live', 'years', 'wrong', 'soon', 'including', 'today', 'white', 'good', 'president', 'house']\n",
            "\n",
            "\n",
            "Top 10 words for topic #2:\n",
            "['meeting', 'national', 'safety', 'federal', 'jobs', 'security', 'report', 'republican', 'president', 'trump']\n",
            "\n",
            "\n",
            "Top 10 words for topic #3:\n",
            "['doesn', 'times', 'washington', 'best', 'york', 'things', 'amp', 'campaign', 'economy', 'new']\n",
            "\n",
            "\n",
            "Top 10 words for topic #4:\n",
            "['right', 'trade', 'just', 'world', 'china', 'united', 'states', 'media', 'fake', 'news']\n",
            "\n",
            "\n",
            "Top 10 words for topic #5:\n",
            "['republicans', 'left', 'election', 'just', 'don', 'vote', 'country', 'did', 'want', 'democrats']\n",
            "\n",
            "\n",
            "Top 10 words for topic #6:\n",
            "['doing', 'thank', 'job', 'make', 'amp', 'state', 'people', 'america', 'big', 'great']\n",
            "\n",
            "\n",
            "Top 10 words for topic #7:\n",
            "['hard', 'clinton', 'hillary', 'dollars', 'year', 'schiff', 'time', 'collusion', 'fbi', 'dems']\n",
            "\n",
            "\n",
            "Top 10 words for topic #8:\n",
            "['law', 'party', 'wall', 'total', 'russia', 'strong', 'military', 'great', 'amp', 'border']\n",
            "\n",
            "\n",
            "Top 10 words for topic #9:\n",
            "['said', 'good', 'democrats', 'impeachment', 'senate', 'democrat', 'know', 'joe', 'biden', 'amp']\n",
            "\n",
            "\n"
          ],
          "name": "stdout"
        }
      ]
    }
  ]
}